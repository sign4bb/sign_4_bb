{
 "cells": [
  {
   "cell_type": "markdown",
   "metadata": {},
   "source": [
    "This notebook compares the performance of SignHunter and Harmonica on the two examples provided by Harmonica's authors.\n",
    "\n",
    "To run this notebook, please copy the contents of this notebook's directory (`samplings.py`, `main.py`, and `SignHunter - Harmonica Comparison.ipynb`)  into the directory of the Harmonica's [source code](https://github.com/callowbird/Harmonica)\n",
    "\n",
    "One should note that the two algorithms make different assumptions on the objective function to be optimized.\n",
    "SignHunter assumes the function is separable in its variables, while Harmonica assumes that the function _can be approximated by a sparse and low degree polynomial in the Fourier basis. This\n",
    "means intuitively that it can be approximated well by a decision tree_. See [this](https://arxiv.org/pdf/1706.00764.pdf)"
   ]
  },
  {
   "cell_type": "markdown",
   "metadata": {},
   "source": [
    "From below, we can see that SignHunter minimizes the first objective function using 20 queries achieving a value of -50.0 whereas Harmonica does the same using 4223 queries!\n",
    "\n",
    "For the second objective function, Signhunter achieves a better objective value of -916.2654 with 500 queries. On the other hand, Harmonica employs 4223 queries to obtain an objective value of -916.247764.\n",
    "\n",
    "In terms of computational complexity per query, SignHunter is far more efficient. Please see the time per query from each cell below. E.g., SignHunter takes $36\\mu s$ per query and Harmonica takes $67ms$!\n",
    "\n",
    "Please note that we are using Harmonica's examples and its default parameters. There are no hyperparameter for SignHunter. "
   ]
  },
  {
   "cell_type": "code",
   "execution_count": 1,
   "metadata": {},
   "outputs": [],
   "source": [
    "import samplings\n",
    "import numpy as np\n",
    "import time"
   ]
  },
  {
   "cell_type": "code",
   "execution_count": 2,
   "metadata": {},
   "outputs": [],
   "source": [
    "def sign_hunter(f, dim, max_num_queries):\n",
    "    \"\"\"\n",
    "    A simple implementation of SignHunter\n",
    "    \"\"\"\n",
    "    best_guess = np.ones(dim)\n",
    "    best_f = f(best_guess)\n",
    "    guess = best_guess.copy()\n",
    "    num_queries = 1\n",
    "    while num_queries < max_num_queries:\n",
    "        for h in range(np.ceil(np.log2(dim)).astype(int) + 1):\n",
    "            chunk_len = np.ceil(dim / 2**h).astype(int)\n",
    "            for i in range(2**h):\n",
    "                istart = i * chunk_len\n",
    "                iend = min(istart + chunk_len, dim)\n",
    "                guess[istart:iend] *= -1\n",
    "                val = f(guess)\n",
    "                num_queries += 1\n",
    "                if val <= best_f:\n",
    "                    #print(\"guess is better\", istart, iend, best_guess, guess)\n",
    "                    best_guess = guess.copy()\n",
    "                    best_f = val\n",
    "                else:\n",
    "                    #print(\"guess is worse\", istart, iend, best_guess, guess)\n",
    "                    guess = best_guess.copy()\n",
    "                #print(istart, iend)\n",
    "                if istart == dim - 1:\n",
    "                    break\n",
    "                if num_queries >= max_num_queries:\n",
    "                    break\n",
    "            if num_queries >= max_num_queries:\n",
    "                break\n",
    "        if num_queries >= max_num_queries:\n",
    "            break\n",
    "        # signhunter assumes the objective function is separable so it returns a solution in O(n)\n",
    "        # if the assumption is not satisfied we can start with a new guess after O(n) queries.\n",
    "        guess = np.sign(np.random.randn(dim))\n",
    "        num_queries += 1\n",
    "        val = f(guess)\n",
    "        if val <= best_f:\n",
    "            best_guess = guess.copy()\n",
    "            best_f = val\n",
    "    return best_f, guess, num_queries"
   ]
  },
  {
   "cell_type": "markdown",
   "metadata": {},
   "source": [
    "### Objective Function 1 from Harmonica source code\n",
    "\n",
    "https://github.com/callowbird/Harmonica"
   ]
  },
  {
   "cell_type": "markdown",
   "metadata": {},
   "source": [
    "###### SignHunter"
   ]
  },
  {
   "cell_type": "code",
   "execution_count": 3,
   "metadata": {},
   "outputs": [
    {
     "name": "stdout",
     "output_type": "stream",
     "text": [
      "\n",
      " SignHunter: Number of queries 20| Solution cost -50.0| Time per query 36.30us\n"
     ]
    }
   ],
   "source": [
    "samplings.num_queries = 0\n",
    "query = samplings.f1\n",
    "start_time = time.time()\n",
    "best_f, sol, num_queries= sign_hunter(query, 60, 20)\n",
    "end_time = time.time()\n",
    "time_per_query = (end_time - start_time) / num_queries * 1e6\n",
    "print(\"\\n SignHunter: Number of queries {}| Solution cost {}| Time per query {:.2f}us\".format(\n",
    "    samplings.num_queries, best_f,time_per_query))"
   ]
  },
  {
   "cell_type": "markdown",
   "metadata": {},
   "source": [
    "###### Harmonica"
   ]
  },
  {
   "cell_type": "code",
   "execution_count": 4,
   "metadata": {},
   "outputs": [
    {
     "name": "stdout",
     "output_type": "stream",
     "text": [
      "Total options :  60\n",
      "----------------------------------------------------------\n",
      "Stage 0\n",
      "Sampling..\n",
      "Number of features :  36051\n",
      "Extending feature vectors with degree 3 ..\n",
      "Running linear regression..\n",
      "Found the following sparse low degree polynomial:\n",
      " f = 7.35 x2 * x8 +7.14 x15 +6.90 x3 * x6 +6.73 x38 +6.68 x46\n",
      "----------------------------------------------------------\n",
      "Stage 1\n",
      "Sampling..\n",
      "Extending feature vectors with degree 3 ..\n",
      "Running linear regression..\n",
      "/Users/ash/miniconda3/lib/python3.7/site-packages/sklearn/linear_model/coordinate_descent.py:475: ConvergenceWarning: Objective did not converge. You might want to increase the number of iterations. Duality gap: 0.0, tolerance: 0.0\n",
      "  positive)\n",
      "Found the following sparse low degree polynomial:\n",
      " f = 0.00  +0.00 x17 * x27 * x28 +0.00 x17 * x26 * x59 +0.00 x17 * x26 * x58 +0.00 x17 * x26 * x57\n",
      "----------------------------------------------------------\n",
      "Stage 2\n",
      "Sampling..\n",
      "Extending feature vectors with degree 3 ..\n",
      "Running linear regression..\n",
      "/Users/ash/miniconda3/lib/python3.7/site-packages/sklearn/linear_model/coordinate_descent.py:475: ConvergenceWarning: Objective did not converge. You might want to increase the number of iterations. Duality gap: 0.0, tolerance: 0.0\n",
      "  positive)\n",
      "Found the following sparse low degree polynomial:\n",
      " f = 0.00  +0.00 x17 * x27 * x28 +0.00 x17 * x26 * x59 +0.00 x17 * x26 * x58 +0.00 x17 * x26 * x57\n",
      "----------------------------------------------------------\n",
      "----------------------------------------------------------\n",
      "Running hyperband as the base algorithm.\n",
      "B= 8000\n",
      "Smax= 4\n",
      "WARNING! Please implement the intermediate sampling algorithm.\n",
      "The current intermediate sampling algorithm is trivial. It cannot be applied to your application.\n",
      "----------------------------------------------------------\n",
      "s= 0\n",
      "n= 80\n",
      "Remaining.. 80\n",
      "r= 100\n",
      "----------------------------------------------------------\n",
      "s= 1\n",
      "n= 120\n",
      "Remaining.. 120\n",
      "r= 33\n",
      "Remaining.. 40\n",
      "r= 99.0\n",
      "----------------------------------------------------------\n",
      "s= 2\n",
      "n= 240\n",
      "Remaining.. 240\n",
      "r= 11\n",
      "Remaining.. 80\n",
      "r= 33.0\n",
      "Remaining.. 27\n",
      "r= 99.0\n",
      "----------------------------------------------------------\n",
      "s= 3\n",
      "n= 540\n",
      "Remaining.. 540\n",
      "r= 3\n",
      "Remaining.. 180\n",
      "r= 9.0\n",
      "Remaining.. 60\n",
      "r= 27.0\n",
      "Remaining.. 20\n",
      "r= 81.0\n",
      "----------------------------------------------------------\n",
      "s= 4\n",
      "n= 1296\n",
      "Remaining.. 1296\n",
      "r= 1\n",
      "Remaining.. 432\n",
      "r= 3.0\n",
      "Remaining.. 144\n",
      "r= 9.0\n",
      "Remaining.. 48\n",
      "r= 27.0\n",
      "Remaining.. 16\n",
      "r= 81.0\n",
      "----------------------------------------------------------\n",
      "best answer :  -50.0\n",
      "number of queries:  4223\n",
      "Time per query 0.067471s\n"
     ]
    }
   ],
   "source": [
    "!python main.py -query f1"
   ]
  },
  {
   "cell_type": "markdown",
   "metadata": {},
   "source": [
    "### Objective Function 2 from Harmonica source code\n",
    "\n",
    "https://github.com/callowbird/Harmonica"
   ]
  },
  {
   "cell_type": "markdown",
   "metadata": {},
   "source": [
    "###### SignHunter"
   ]
  },
  {
   "cell_type": "code",
   "execution_count": 5,
   "metadata": {},
   "outputs": [
    {
     "name": "stdout",
     "output_type": "stream",
     "text": [
      "C0\tC2\tC68\tC0\tC29\tC937\tC0\tC11\tC363\tC0\tC20\tC655\tC0\tC24\tC784\tC0\tC17\tC561\tC0\tC31\tC994\tC0\tC9\tC289\tC0\tC2\tC68\tC0\tC24\tC793\tC0\tC3\tC111\tC0\tC21\tC697\tC0\tC18\tC607\tC0\tC8\tC267\tC0\tC11\tC360\tC0\tC2\tC84\tC0\tC2\tC68\tC0\tC2\tC68\tC0\tC4\tC141\tC0\tC30\tC988\tC0\tC3\tC111\tC0\tC2\tC70\tC0\tC16\tC543\tC0\tC7\tC248\tC0\tC2\tC65\tC0\tC18\tC607\tC0\tC2\tC67\tC0\tC8\tC280\tC0\tC3\tC125\tC0\tC10\tC324\tC0\tC2\tC81\tC0\tC2\tC65\tC0\tC2\tC65\tC0\tC2\tC65\tC0\tC2\tC65\tC0\tC2\tC65\tC0\tC4\tC133\tC0\tC2\tC65\tC0\tC10\tC332\tC0\tC22\tC713\tC0\tC3\tC122\tC0\tC2\tC65\tC0\tC2\tC67\tC0\tC2\tC65\tC0\tC16\tC518\tC0\tC2\tC73\tC0\tC2\tC69\tC0\tC7\tC242\tC0\tC2\tC69\tC0\tC2\tC64\tC0\tC2\tC65\tC0\tC18\tC601\tC0\tC2\tC66\tC0\tC2\tC64\tC0\tC10\tC333\tC0\tC0\tC12\tC0\tC1\tC55\tC0\tC0\tC28\tC0\tC8\tC272\tC0\tC0\tC12\tC0\tC0\tC12\tC0\tC0\tC12\tC0\tC0\tC12\tC0\tC0\tC12\tC0\tC0\tC4\tC0\tC0\tC4\tC0\tC0\tC4\tC0\tC0\tC4\tC0\tC0\tC4\tC0\tC0\tC4\tC0\tC0\tC4\tC0\tC0\tC12\tC0\tC2\tC80\tC0\tC4\tC146\tC0\tC0\tC4\tC0\tC0\tC0\tC0\tC0\tC0\tC0\tC8\tC262\tC0\tC20\tC651\tC0\tC0\tC0\tC0\tC0\tC0\tC0\tC1\tC52\tC0\tC0\tC2\tC0\tC0\tC0\tC0\tC0\tC0\tC0\tC0\tC18\tC0\tC0\tC0\tC0\tC0\tC0\tC0\tC16\tC538\tC0\tC2\tC82\tC0\tC0\tC0\tC0\tC0\tC0\tC0\tC0\tC0\tC0\tC0\tC0\tC0\tC5\tC169\tC0\tC0\tC0\tC0\tC0\tC0\tC0\tC0\tC0\tC0\tC0\tC4\tC0\tC0\tC0\tC0\tC0\tC4\tC0\tC0\tC0\tC0\tC16\tC530\tC0\tC0\tC0\tC0\tC0\tC0\tC0\tC0\tC0\tC0\tC0\tC16\tC0\tC0\tC0\tC0\tC8\tC262\tC0\tC0\tC0\tC0\tC2\tC82\tC0\tC0\tC0\tC0\tC1\tC33\tC0\tC0\tC0\tC0\tC0\tC0\tC0\tC0\tC16\tC0\tC8\tC262\tC0\tC0\tC0\tC0\tC0\tC0\tC0\tC0\tC0\tC0\tC0\tC0\tC0\tC0\tC0\tC0\tC0\tC0\tC0\tC0\tC0\tC0\tC22\tC718\tC0\tC9\tC301\tC0\tC9\tC306\tC0\tC22\tC707\tC0\tC26\tC832\tC0\tC19\tC635\tC0\tC29\tC939\tC0\tC11\tC365\tC0\tC0\tC0\tC0\tC26\tC840\tC0\tC1\tC60\tC0\tC23\tC755\tC0\tC16\tC538\tC0\tC10\tC341\tC0\tC9\tC289\tC0\tC0\tC0\tC0\tC0\tC8\tC0\tC0\tC8\tC0\tC6\tC197\tC0\tC28\tC925\tC0\tC1\tC55\tC0\tC0\tC18\tC0\tC18\tC578\tC0\tC5\tC168\tC0\tC0\tC4\tC0\tC16\tC530\tC0\tC0\tC16\tC0\tC10\tC343\tC0\tC1\tC33\tC0\tC8\tC274\tC0\tC0\tC0\tC0\tC0\tC0\tC0\tC0\tC8\tC0\tC0\tC0\tC0\tC0\tC0\tC0\tC0\tC8\tC0\tC6\tC197\tC0\tC0\tC4\tC0\tC8\tC260\tC0\tC20\tC643\tC0\tC1\tC39\tC0\tC0\tC2\tC0\tC0\tC18\tC0\tC0\tC0\tC0\tC18\tC578\tC0\tC0\tC0\tC0\tC0\tC0\tC0\tC5\tC169\tC0\tC0\tC0\tC0\tC0\tC4\tC0\tC0\tC4\tC0\tC16\tC530\tC0\tC0\tC0\tC0\tC0\tC16\tC0\tC8\tC262\tC0\tC2\tC82\tC0\tC1\tC33\tC0\tC0\tC16\tC0\tC8\tC262\tC0\tC0\tC0\tC0\tC0\tC0\tC0\tC0\tC0\tC0\tC0\tC0\tC0\tC0\tC0\tC0\tC0\tC8\tC0\tC0\tC0\tC0\tC0\tC0\tC0\tC0\tC0\tC0\tC0\tC0\tC0\tC0\tC0\tC0\tC0\tC0\tC0\tC0\tC8\tC0\tC2\tC82\tC0\tC4\tC147\tC0\tC0\tC0\tC0\tC0\tC4\tC0\tC0\tC0\tC0\tC8\tC262\tC0\tC20\tC643\tC0\tC0\tC0\tC0\tC0\tC0\tC0\tC1\tC39\tC0\tC0\tC2\tC0\tC0\tC0\tC0\tC0\tC0\tC0\tC0\tC18\tC0\tC0\tC0\tC0\tC0\tC0\tC0\tC16\tC531\tC0\tC2\tC82\tC0\tC0\tC0\tC0\tC0\tC0\tC0\tC0\tC0\tC0\tC0\tC0\tC0\tC5\tC169\tC0\tC0\tC0\tC0\tC0\tC0\tC0\tC0\tC0\tC0\tC0\tC4\tC0\tC0\tC0\tC0\tC0\tC4\tC0\tC0\tC0\tC0\tC16\tC531\tC0\tC0\tC0\tC0\tC0\tC0\tC0\tC0\tC0\tC0\tC0\tC16\tC0\tC0\tC0\tC0\tC8\tC262\tC0\tC0\tC0\tC0\tC2\tC82\tC0\tC0\tC0\tC0\tC1\tC33\tC0\tC0\tC0\tC0\tC0\tC0\tC0\tC0\tC16\tC0\tC8\tC262\tC0\tC0\tC0\tC0\tC0\tC0\tC0\tC0\tC0\tC0\tC0\tC0\tC0\tC0\tC0\tC0\tC0\tC0\tC0\tC0\tC0\tC0\tC25\tC831\tC0\tC6\tC212\tC0\tC9\tC306\tC0\tC22\tC707\tC0\tC26\tC832\tC0\tC19\tC635\tC0\tC29\tC939\tC0\tC11\tC365\tC0\tC0\tC0\tC0\tC26\tC840\tC0\tC1\tC60\tC0\tC23\tC755\tC0\tC16\tC538\tC0\tC10\tC341\tC0\tC9\tC289\tC0\tC0\tC0\tC0\tC0\tC8\tC0\tC0\tC8\tC0\tC6\tC197\tC0\tC28\tC925\tC0\tC1\tC55\tC0\tC0\tC18\tC0\tC18\tC578\tC0\tC5\tC168\tC0\tC0\tC4\tC0\tC16\tC530\tC0\tC0\tC16\tC0\tC10\tC343\tC0\tC1\tC33\tC0\tC8\tC274\tC0\tC0\tC0\tC0\tC0\tC0\tC0\tC0\tC8\tC0\tC0\tC0\tC0\tC0\tC0\tC0\tC0\tC8\tC0\tC6\tC197\tC0\tC0\tC4\tC0\tC8\tC260\tC0\tC20\tC643\tC0\tC1\tC39\tC0\tC0\tC2\tC0\tC0\tC18\tC0\tC0\tC0\tC0\tC18\tC578\tC0\tC0\tC0\tC0\tC0\tC0\tC0\tC5\tC169\tC0\tC0\tC0\tC0\tC0\tC4\tC0\tC0\tC4\tC0\tC16\tC530\tC0\tC0\tC0\tC0\tC0\tC16\tC0\tC8\tC262\tC0\tC2\tC82\tC0\tC1\tC33\tC0\tC0\tC16\tC0\tC8\tC262\tC0\tC0\tC0\tC0\tC0\tC0\tC0\tC0\tC0\tC0\tC0\tC0\tC0\tC0\tC0\tC0\tC0\tC8\tC0\tC0\tC0\tC0\tC0\tC0\tC0\tC0\tC0\tC0\tC0\tC0\tC0\tC0\tC0\tC0\tC0\tC0\tC0\tC0\tC8\tC0\tC2\tC82\tC0\tC4\tC147\tC0\tC0\tC0\tC0\tC0\tC4\tC0\tC0\tC0\tC0\tC8\tC262\tC0\tC20\tC643\tC0\tC0\tC0\tC0\tC0\tC0\tC0\tC1\tC39\tC0\tC0\tC2\tC0\tC0\tC0\tC0\tC0\tC0\tC0\tC0\tC18\tC0\tC0\tC0\tC0\tC0\tC0\tC0\tC16\tC531\tC0\tC2\tC82\tC0\tC0\tC0\tC0\tC0\tC0\tC0\tC0\tC0\tC0\tC0\tC0\tC0\tC5\tC169\tC0\tC0\tC0\tC0\tC0\tC0\tC0\tC0\tC0\tC0\tC0\tC4\tC0\tC0\tC0\tC0\tC0\tC4\tC0\tC0\tC0\tC0\tC16\tC531\tC0\tC0\tC0\tC0\tC0\tC0\tC0\tC0\tC0\tC0\tC0\tC16\tC0\tC0\tC0\tC0\tC8\tC262\tC0\tC0\tC0\tC0\tC2\tC82\tC0\tC0\tC0\tC0\tC1\tC33\tC0\tC0\tC0\tC0\tC0\tC0\tC0\tC0\tC16\tC0\tC8\tC262\tC0\tC0\tC0\tC0\tC0\tC0\tC0\tC0\tC0\tC0\tC0\tC0\tC0\tC0\tC0\tC0\tC0\tC0\tC0\tC0\tC0\tC0\tC6\tC196\tC0\tC25\tC809\tC0\tC9\tC306\tC0\tC22\tC707\tC0\tC26\tC832\tC0\tC19\tC635\tC0\tC29\tC939\tC0\tC11\tC365\tC0\tC0\tC0\tC0\tC26\tC840\tC0\tC1\tC60\tC0\tC23\tC755\tC0\tC16\tC538\tC0\tC10\tC341\tC0\tC9\tC289\tC0\tC0\tC0\tC0\tC0\tC8\tC0\tC0\tC8\tC0\tC6\tC197\tC0\tC28\tC925\tC0\tC1\tC55\tC0\tC0\tC18\tC0\tC18\tC578\tC0\tC5\tC168\tC0\tC0\tC4\tC0\tC16\tC530\tC0\tC0\tC16\tC0\tC10\tC343\tC0\tC1\tC33\tC0\tC8\tC274\tC0\tC0\tC0\tC0\tC0\tC0\tC0\tC0\tC8\tC0\tC0\tC0\tC0\tC0\tC0\tC0\tC0\tC8\tC0\tC6\tC197\tC0\tC0\tC4\tC0\tC8\tC260\tC0\tC20\tC643\tC0\tC1\tC39\tC0\tC0\tC2\tC0\tC0\tC18\tC0\tC0\tC0\tC0\tC18\tC578\tC0\tC0\tC0\tC0\tC0\tC0\tC0\tC5\tC169\tC0\tC0\tC0\tC0\tC0\tC4\tC0\tC0\tC4\tC0\tC16\tC530\tC0\tC0\tC0\tC0\tC0\tC16\tC0\tC8\tC262\tC0\tC2\tC82\tC0\tC1\tC33\tC0\tC0\tC16\tC0\tC8\tC262\tC0\tC0\tC0\tC0\tC0\tC0\tC0\tC0\tC0\tC0\tC0\tC0\tC0\tC0\tC0\tC0\tC0\tC8\tC0\tC0\tC0\tC0\tC0\tC0\tC0\tC0\tC0\tC0\tC0\tC0\tC0\tC0\tC0\tC0\tC0\tC0\tC0\tC0\tC8\tC0\tC2\tC82\tC0\tC4\tC147\tC0\tC0\tC0\tC0\tC0\tC4\tC0\tC0\tC0\tC0\tC8\tC262\tC0\tC20\tC643\tC0\tC0\tC0\tC0\tC0\tC0\tC0\tC1\tC39\tC0\tC0\tC2\tC0\tC0\tC0\tC0\tC0\tC0\tC0\tC0\tC18\tC0\tC0\tC0\tC0\tC0\tC0\tC0\tC16\tC531\tC0\tC2\tC82\tC0\tC0\tC0\tC0\tC0\tC0\tC0\tC0\tC0\tC0\tC0\tC0\tC0\tC5\tC169\tC0\tC0\tC0\tC0\tC0\tC0\tC0\tC0\tC0\tC0\tC0\tC4\tC0\tC0\tC0\tC0\tC0\tC4\tC0\tC0\tC0\tC0\tC16\tC531\tC0\tC0\tC0\tC0\tC0\tC0\tC0\tC0\tC0\tC0\tC0\tC16\tC0\tC0\tC0\tC0\tC8\tC262\tC0\tC0\tC0\tC0\tC2\tC82\tC0\tC0\tC0\tC0\tC1\tC33\tC0\tC0\tC0\tC0\tC0\tC0\tC0\tC0\tC16\tC0\tC8\tC262\tC0\tC0\tC0\tC0\tC0\tC0\tC0\tC0\tC0\tC0\tC0\tC0\tC0\tC0\tC0\tC0\tC0\tC0\tC0\tC0\tC0\tC0\tC1\tC44\tC0\tC30\tC980\tC0\tC9\tC306\tC0\tC22\tC707\t\n",
      " SignHunter: Number of queries 500| Solution cost -916.20912194884| Time per query 584.28us\n"
     ]
    }
   ],
   "source": [
    "samplings.num_queries = 0\n",
    "query = samplings.f2\n",
    "start_time = time.time()\n",
    "best_f, sol, num_queries= sign_hunter(query, 60, 500)\n",
    "end_time = time.time()\n",
    "time_per_query = (end_time - start_time) / num_queries * 1e6\n",
    "print(\"\\n SignHunter: Number of queries {}| Solution cost {}| Time per query {:.2f}us\".format(\n",
    "    samplings.num_queries, best_f,time_per_query))"
   ]
  },
  {
   "cell_type": "markdown",
   "metadata": {},
   "source": [
    "###### Harmonica"
   ]
  },
  {
   "cell_type": "code",
   "execution_count": 6,
   "metadata": {},
   "outputs": [
    {
     "name": "stdout",
     "output_type": "stream",
     "text": [
      "Total options :  60\n",
      "----------------------------------------------------------\n",
      "Stage 0\n",
      "Sampling..\n",
      "C0\tC6\tC192\tC0\tC8\tC266\tC0\tC20\tC641\tC0\tC24\tC781\tC0\tC5\tC179\tC0\tC31\tC1019\tC0\tC31\tC996\tC0\tC24\tC785\tC0\tC18\tC596\tC0\tC8\tC286\tC0\tC16\tC531\tC0\tC8\tC268\tC0\tC9\tC291\tC0\tC19\tC626\tC0\tC7\tC236\tC0\tC19\tC634\tC0\tC26\tC847\tC0\tC12\tC412\tC0\tC0\tC5\tC0\tC19\tC611\tC0\tC3\tC101\tC0\tC29\tC938\tC0\tC31\tC1012\tC0\tC21\tC683\tC0\tC0\tC2\tC0\tC23\tC761\tC0\tC9\tC299\tC0\tC13\tC439\tC0\tC20\tC667\tC0\tC25\tC831\tC0\tC12\tC411\tC0\tC24\tC772\tC0\tC19\tC629\tC0\tC19\tC632\tC0\tC22\tC719\tC0\tC8\tC262\tC0\tC19\tC621\tC0\tC28\tC896\tC0\tC12\tC385\tC0\tC29\tC941\tC0\tC12\tC405\tC0\tC13\tC431\tC0\tC5\tC165\tC0\tC30\tC962\tC0\tC21\tC700\tC0\tC16\tC535\tC0\tC16\tC514\tC0\tC14\tC456\tC0\tC1\tC37\tC0\tC8\tC270\tC0\tC21\tC674\tC0\tC1\tC49\tC0\tC9\tC306\tC0\tC22\tC720\tC0\tC26\tC859\tC0\tC31\tC1000\tC0\tC12\tC403\tC0\tC14\tC467\tC0\tC29\tC958\tC0\tC8\tC282\tC0\tC21\tC694\tC0\tC17\tC550\tC0\tC16\tC518\tC0\tC13\tC447\tC0\tC11\tC352\tC0\tC21\tC688\tC0\tC17\tC561\tC0\tC1\tC46\tC0\tC28\tC918\tC0\tC28\tC900\tC0\tC14\tC478\tC0\tC9\tC305\tC0\tC3\tC122\tC0\tC31\tC1014\tC0\tC5\tC162\tC0\tC25\tC807\tC0\tC6\tC208\tC0\tC30\tC961\tC0\tC18\tC588\tC0\tC12\tC413\tC0\tC21\tC694\tC0\tC0\tC21\tC0\tC30\tC980\tC0\tC15\tC508\tC0\tC7\tC241\tC0\tC1\tC38\tC0\tC10\tC320\tC0\tC17\tC565\tC0\tC13\tC420\tC0\tC23\tC761\tC0\tC28\tC925\tC0\tC1\tC47\tC0\tC7\tC224\tC0\tC3\tC102\tC0\tC17\tC573\tC0\tC7\tC236\tC0\tC7\tC245\tC0\tC6\tC196\tC0\tC7\tC239\tC0\tC3\tC124\tC0\tC5\tC161\tC0\tC26\tC852\tC0\tC22\tC711\tC0\tC23\tC743\tC0\tC4\tC152\tC0\tC30\tC981\tC0\tC4\tC155\tC0\tC20\tC652\tC0\tC22\tC731\tC0\tC24\tC794\tC0\tC22\tC723\tC0\tC9\tC301\tC0\tC31\tC1022\tC0\tC9\tC311\tC0\tC3\tC124\tC0\tC18\tC589\tC0\tC26\tC833\tC0\tC0\tC1\tC0\tC30\tC985\tC0\tC16\tC537\tC0\tC29\tC939\tC0\tC7\tC234\tC0\tC13\tC446\tC0\tC19\tC638\tC0\tC16\tC525\tC0\tC28\tC915\tC0\tC6\tC192\tC0\tC13\tC447\tC0\tC16\tC542\tC0\tC19\tC612\tC0\tC13\tC424\tC0\tC17\tC551\tC0\tC9\tC311\tC0\tC27\tC873\tC0\tC9\tC303\tC0\tC13\tC429\tC0\tC30\tC974\tC0\tC29\tC957\tC0\tC21\tC678\tC0\tC14\tC467\tC0\tC1\tC62\tC0\tC19\tC618\tC0\tC7\tC238\tC0\tC23\tC766\tC0\tC16\tC521\tC0\tC7\tC255\tC0\tC22\tC710\tC0\tC22\tC731\tC0\tC7\tC234\tC0\tC25\tC823\tC0\tC31\tC1003\tC0\tC22\tC733\tC0\tC10\tC343\tC0\tC2\tC71\tC0\tC16\tC529\tC0\tC1\tC53\tC0\tC30\tC962\tC0\tC0\tC21\tC0\tC22\tC732\tC0\tC11\tC353\tC0\tC15\tC484\tC0\tC30\tC968\tC0\tC2\tC95\tC0\tC4\tC142\tC0\tC9\tC302\tC0\tC22\tC726\tC0\tC14\tC475\tC0\tC0\tC0\tC0\tC24\tC785\tC0\tC1\tC46\tC0\tC17\tC564\tC0\tC19\tC630\tC0\tC28\tC899\tC0\tC7\tC245\tC0\tC26\tC837\tC0\tC25\tC818\tC0\tC13\tC444\tC0\tC24\tC796\tC0\tC4\tC153\tC0\tC8\tC280\tC0\tC16\tC541\tC0\tC21\tC675\tC0\tC16\tC529\tC0\tC1\tC50\tC0\tC28\tC897\tC0\tC31\tC1000\tC0\tC2\tC68\tC0\tC25\tC802\tC0\tC9\tC299\tC0\tC3\tC121\tC0\tC17\tC556\tC0\tC16\tC529\tC0\tC28\tC916\tC0\tC12\tC392\tC0\tC11\tC375\tC0\tC0\tC14\tC0\tC24\tC774\tC0\tC13\tC420\tC0\tC26\tC859\tC0\tC20\tC640\tC0\tC17\tC574\tC0\tC15\tC480\tC0\tC30\tC960\tC0\tC20\tC658\tC0\tC25\tC805\tC0\tC0\tC26\tC0\tC25\tC809\tC0\tC18\tC599\tC0\tC20\tC650\tC0\tC25\tC816\tC0\tC16\tC521\tC0\tC12\tC403\tC0\tC15\tC508\tC0\tC22\tC725\tC0\tC15\tC497\tC0\tC31\tC1018\tC0\tC4\tC143\tC0\tC26\tC854\tC0\tC24\tC795\tC0\tC18\tC577\tC0\tC21\tC696\tC0\tC19\tC639\tC0\tC22\tC724\tC0\tC23\tC737\tC0\tC20\tC651\tC0\tC28\tC910\tC0\tC30\tC982\tC0\tC29\tC939\tC0\tC21\tC698\tC0\tC26\tC852\tC0\tC24\tC787\tC0\tC19\tC631\tC0\tC6\tC218\tC0\tC27\tC867\tC0\tC11\tC378\tC0\tC23\tC739\tC0\tC16\tC528\tC0\tC7\tC249\tC0\tC29\tC949\tC0\tC7\tC244\tC0\tC20\tC655\tC0\tC24\tC776\tC0\tC26\tC832\tC0\tC11\tC360\tC0\tC20\tC641\tC0\tC23\tC764\tC0\tC0\tC15\tC0\tC17\tC550\tC0\tC7\tC234\tC0\tC30\tC982\tC0\tC0\tC4\tC0\tC16\tC522\tC0\tC11\tC376\tC0\tC11\tC375\tC0\tC0\tC25\tC0\tC28\tC900\tC0\tC17\tC551\tC0\tC2\tC78\tC0\tC17\tC567\tC0\tC18\tC596\tC0\tC10\tC322\tC0\tC23\tC746\tC0\tC27\tC885\tC0\tC29\tC946\tC0\tC21\tC702\tC0\tC14\tC461\tC0\tC22\tC716\tC0\tC3\tC111\tC0\tC17\tC574\tC0\tC21\tC696\tC0\tC24\tC782\tC0\tC17\tC547\tC0\tC11\tC380\tC0\tC28\tC915\tC0\tC28\tC896\tC0\tC20\tC641\tC0\tC14\tC463\tC0\tC15\tC503\tC0\tC18\tC605\tC0\tC3\tC97\tC0\tC9\tC307\tC0\tC8\tC256\tC0\tC30\tC976\tC0\tC13\tC428\tC0\tC28\tC903\tC0\tC20\tC666\tC0\tC28\tC899\tC0\tC3\tC126\tC0\tC14\tC454\tC0\tC16\tC514\tC0\tC6\tC220\tC0\tC1\tC51\tC0\tC10\tC320\tC0\tC30\tC961\tC0\tC21\tC678\tC0\tC14\tC450\tC0\tC13\tC425\tC0\tC20\tC643\tC0\tC5\tC173\tC0\tC15\tC482\tNumber of features :  36051\n",
      "Extending feature vectors with degree 3 ..\n",
      "Running linear regression..\n",
      "Found the following sparse low degree polynomial:\n",
      " f = -137.38 x17 * x30 * x48-134.02 x14 * x24 * x38-125.13 x13 * x44 * x52-116.35 x9 * x14 * x30 +86.12 x8 * x25 * x46\n",
      "----------------------------------------------------------\n",
      "Stage 1\n",
      "Sampling..\n",
      "C0\tC0\tC30\tC0\tC0\tC8\tC0\tC0\tC18\tC0\tC0\tC6\tC0\tC0\tC8\tC0\tC0\tC0\tC0\tC0\tC0\tC0\tC0\tC10\tC0\tC0\tC0\tC0\tC0\tC26\tC0\tC0\tC6\tC0\tC0\tC28\tC0\tC0\tC2\tC0\tC0\tC20\tC0\tC0\tC22\tC0\tC0\tC10\tC0\tC0\tC14\tC0\tC0\tC26\tC0\tC0\tC0\tC0\tC0\tC16\tC0\tC0\tC12\tC0\tC0\tC2\tC0\tC0\tC6\tC0\tC0\tC6\tC0\tC0\tC10\tC0\tC0\tC2\tC0\tC0\tC0\tC0\tC0\tC20\tC0\tC0\tC12\tC0\tC0\tC18\tC0\tC0\tC18\tC0\tC0\tC18\tC0\tC0\tC4\tC0\tC0\tC2\tC0\tC0\tC14\tC0\tC0\tC4\tC0\tC0\tC18\tC0\tC0\tC4\tC0\tC0\tC0\tC0\tC0\tC14\tC0\tC0\tC6\tC0\tC0\tC20\tC0\tC0\tC26\tC0\tC0\tC6\tC0\tC0\tC12\tC0\tC0\tC16\tC0\tC0\tC8\tC0\tC0\tC28\tC0\tC0\tC22\tC0\tC0\tC16\tC0\tC0\tC10\tC0\tC0\tC18\tC0\tC0\tC12\tC0\tC0\tC30\tC0\tC0\tC30\tC0\tC0\tC0\tC0\tC0\tC6\tC0\tC0\tC30\tC0\tC0\tC16\tC0\tC0\tC20\tC0\tC0\tC6\tC0\tC0\tC14\tC0\tC0\tC0\tC0\tC0\tC12\tC0\tC0\tC14\tC0\tC0\tC6\tC0\tC0\tC22\tC0\tC0\tC30\tC0\tC0\tC26\tC0\tC0\tC26\tC0\tC0\tC14\tC0\tC0\tC6\tC0\tC0\tC12\tC0\tC0\tC30\tC0\tC0\tC12\tC0\tC0\tC2\tC0\tC0\tC6\tC0\tC0\tC22\tC0\tC0\tC4\tC0\tC0\tC8\tC0\tC0\tC20\tC0\tC0\tC26\tC0\tC0\tC2\tC0\tC0\tC10\tC0\tC0\tC18\tC0\tC0\tC30\tC0\tC0\tC24\tC0\tC0\tC8\tC0\tC0\tC16\tC0\tC0\tC10\tC0\tC0\tC0\tC0\tC0\tC26\tC0\tC0\tC2\tC0\tC0\tC26\tC0\tC0\tC26\tC0\tC0\tC20\tC0\tC0\tC16\tC0\tC0\tC14\tC0\tC0\tC2\tC0\tC0\tC4\tC0\tC0\tC14\tC0\tC0\tC18\tC0\tC0\tC18\tC0\tC0\tC0\tC0\tC0\tC30\tC0\tC0\tC30\tC0\tC0\tC10\tC0\tC0\tC4\tC0\tC0\tC20\tC0\tC0\tC26\tC0\tC0\tC4\tC0\tC0\tC2\tC0\tC0\tC0\tC0\tC0\tC18\tC0\tC0\tC16\tC0\tC0\tC14\tC0\tC0\tC0\tC0\tC0\tC4\tC0\tC0\tC12\tC0\tC0\tC0\tC0\tC0\tC14\tC0\tC0\tC2\tC0\tC0\tC26\tC0\tC0\tC30\tC0\tC0\tC0\tC0\tC0\tC30\tC0\tC0\tC12\tC0\tC0\tC2\tC0\tC0\tC26\tC0\tC0\tC2\tC0\tC0\tC0\tC0\tC0\tC24\tC0\tC0\tC6\tC0\tC0\tC22\tC0\tC0\tC4\tC0\tC0\tC4\tC0\tC0\tC2\tC0\tC0\tC24\tC0\tC0\tC12\tC0\tC0\tC20\tC0\tC0\tC30\tC0\tC0\tC14\tC0\tC0\tC30\tC0\tC0\tC22\tC0\tC0\tC8\tC0\tC0\tC6\tC0\tC0\tC28\tC0\tC0\tC12\tC0\tC0\tC12\tC0\tC0\tC24\tC0\tC0\tC2\tC0\tC0\tC16\tC0\tC0\tC2\tC0\tC0\tC28\tC0\tC0\tC18\tC0\tC0\tC18\tC0\tC0\tC26\tC0\tC0\tC0\tC0\tC0\tC26\tC0\tC0\tC28\tC0\tC0\tC18\tC0\tC0\tC4\tC0\tC0\tC30\tC0\tC0\tC22\tC0\tC0\tC16\tC0\tC0\tC14\tC0\tC0\tC10\tC0\tC0\tC30\tC0\tC0\tC14\tC0\tC0\tC20\tC0\tC0\tC0\tC0\tC0\tC22\tC0\tC0\tC18\tC0\tC0\tC16\tC0\tC0\tC0\tC0\tC0\tC14\tC0\tC0\tC8\tC0\tC0\tC6\tC0\tC0\tC16\tC0\tC0\tC22\tC0\tC0\tC14\tC0\tC0\tC26\tC0\tC0\tC22\tC0\tC0\tC14\tC0\tC0\tC0\tC0\tC0\tC22\tC0\tC0\tC30\tC0\tC0\tC2\tC0\tC0\tC8\tC0\tC0\tC8\tC0\tC0\tC18\tC0\tC0\tC6\tC0\tC0\tC8\tC0\tC0\tC18\tC0\tC0\tC30\tC0\tC0\tC8\tC0\tC0\tC10\tC0\tC0\tC0\tC0\tC0\tC14\tC0\tC0\tC30\tC0\tC0\tC28\tC0\tC0\tC8\tC0\tC0\tC0\tC0\tC0\tC30\tC0\tC0\tC20\tC0\tC0\tC30\tC0\tC0\tC0\tC0\tC0\tC24\tC0\tC0\tC26\tC0\tC0\tC22\tC0\tC0\tC2\tC0\tC0\tC16\tC0\tC0\tC14\tC0\tC0\tC10\tC0\tC0\tC26\tC0\tC0\tC4\tC0\tC0\tC18\tC0\tC0\tC2\tC0\tC0\tC28\tC0\tC0\tC8\tC0\tC0\tC0\tC0\tC0\tC30\tC0\tC0\tC18\tC0\tC0\tC4\tC0\tC0\tC6\tC0\tC0\tC26\tC0\tC0\tC10\tC0\tC0\tC12\tC0\tC0\tC4\tC0\tC0\tC30\tC0\tC0\tC8\tC0\tC0\tC18\tC0\tC0\tC30\tC0\tC0\tC20\tC0\tC0\tC12\tC0\tC0\tC22\tC0\tC0\tC12\tC0\tC0\tC18\tC0\tC0\tC12\tC0\tC0\tC4\tC0\tC0\tC26\tC0\tC0\tC26\tC0\tC0\tC30\tC0\tC0\tC16\tC0\tC0\tC16\tC0\tC0\tC2\tC0\tC0\tC12\tC0\tC0\tC16\tC0\tC0\tC22\tC0\tC0\tC28\tC0\tC0\tC2\tC0\tC0\tC30\tC0\tC0\tC30\tC0\tC0\tC6\tC0\tC0\tC18\tC0\tC0\tC20\tC0\tC0\tC28\tC0\tC0\tC16\tC0\tC0\tC22\tC0\tC0\tC24\tC0\tC0\tC24\tC0\tC0\tC14\tC0\tC0\tC22\tC0\tC0\tC2\tC0\tC0\tC28\tC0\tC0\tC8\tC0\tC0\tC16\tC0\tC0\tC18\tC0\tC0\tC22\tC0\tC0\tC12\tC0\tC0\tC26\tC0\tC0\tC10\tC0\tC0\tC26\tC0\tC0\tC8\tC0\tC0\tC30\tC0\tC0\tC26\tC0\tC0\tC18\tC0\tC0\tC28\tC0\tC0\tC26\tC0\tC0\tC6\tC0\tC0\tC12\tC0\tC0\tC24\tC0\tC0\tC4\tC0\tC0\tC4\tC0\tC0\tC24\tC0\tC0\tC4\tC0\tC0\tC6\tC0\tC0\tC26\tC0\tC0\tC12\tC0\tC0\tC28\tC0\tC0\tC16\tC0\tC0\tC2\tC0\tC0\tC8\tC0\tC0\tC2\tC0\tC0\tC14\tC0\tC0\tC12\tC0\tC0\tC24\tC0\tC0\tC24\tC0\tC0\tC16\tC0\tC0\tC8\tExtending feature vectors with degree 3 ..\n",
      "Running linear regression..\n",
      "Found the following sparse low degree polynomial:\n",
      " f = -30.28 x21 * x42 * x51-29.07 x11 * x34 * x36-27.47 x0 * x7 +24.10 x18 * x21-2.10 x8 * x18 * x21\n",
      "----------------------------------------------------------\n",
      "Stage 2\n",
      "Sampling..\n",
      "C0\tC0\tC0\tC0\tC0\tC0\tC0\tC0\tC0\tC0\tC0\tC0\tC0\tC0\tC0\tC0\tC0\tC0\tC0\tC0\tC0\tC0\tC0\tC0\tC0\tC0\tC0\tC0\tC0\tC0\tC0\tC0\tC0\tC0\tC0\tC0\tC0\tC0\tC0\tC0\tC0\tC0\tC0\tC0\tC0\tC0\tC0\tC0\tC0\tC0\tC0\tC0\tC0\tC0\tC0\tC0\tC0\tC0\tC0\tC0\tC0\tC0\tC0\tC0\tC0\tC0\tC0\tC0\tC0\tC0\tC0\tC0\tC0\tC0\tC0\tC0\tC0\tC0\tC0\tC0\tC0\tC0\tC0\tC0\tC0\tC0\tC0\tC0\tC0\tC0\tC0\tC0\tC0\tC0\tC0\tC0\tC0\tC0\tC0\tC0\tC0\tC0\tC0\tC0\tC0\tC0\tC0\tC0\tC0\tC0\tC0\tC0\tC0\tC0\tC0\tC0\tC0\tC0\tC0\tC0\tC0\tC0\tC0\tC0\tC0\tC0\tC0\tC0\tC0\tC0\tC0\tC0\tC0\tC0\tC0\tC0\tC0\tC0\tC0\tC0\tC0\tC0\tC0\tC0\tC0\tC0\tC0\tC0\tC0\tC0\tC0\tC0\tC0\tC0\tC0\tC0\tC0\tC0\tC0\tC0\tC0\tC0\tC0\tC0\tC0\tC0\tC0\tC0\tC0\tC0\tC0\tC0\tC0\tC0\tC0\tC0\tC0\tC0\tC0\tC0\tC0\tC0\tC0\tC0\tC0\tC0\tC0\tC0\tC0\tC0\tC0\tC0\tC0\tC0\tC0\tC0\tC0\tC0\tC0\tC0\tC0\tC0\tC0\tC0\tC0\tC0\tC0\tC0\tC0\tC0\tC0\tC0\tC0\tC0\tC0\tC0\tC0\tC0\tC0\tC0\tC0\tC0\tC0\tC0\tC0\tC0\tC0\tC0\tC0\tC0\tC0\tC0\tC0\tC0\tC0\tC0\tC0\tC0\tC0\tC0\tC0\tC0\tC0\tC0\tC0\tC0\tC0\tC0\tC0\tC0\tC0\tC0\tC0\tC0\tC0\tC0\tC0\tC0\tC0\tC0\tC0\tC0\tC0\tC0\tC0\tC0\tC0\tC0\tC0\tC0\tC0\tC0\tC0\tC0\tC0\tC0\tC0\tC0\tC0\tC0\tC0\tC0\tC0\tC0\tC0\tC0\tC0\tC0\tC0\tC0\tC0\tC0\tC0\tC0\tC0\tC0\tC0\tC0\tC0\tC0\tC0\tC0\tC0\tC0\tC0\tC0\tC0\tC0\tC0\tC0\tC0\tC0\tC0\tC0\tC0\tC0\tC0\tC0\tC0\tC0\tC0\tC0\tC0\tC0\tC0\tC0\tC0\tC0\tC0\tC0\tC0\tC0\tC0\tC0\tC0\tC0\tC0\tC0\tC0\tC0\tC0\tC0\tC0\tC0\tC0\tC0\tC0\tC0\tC0\tC0\tC0\tC0\tC0\tC0\tC0\tC0\tC0\tC0\tC0\tC0\tC0\tC0\tC0\tC0\tC0\tC0\tC0\tC0\tC0\tC0\tC0\tC0\tC0\tC0\tC0\tC0\tC0\tC0\tC0\tC0\tC0\tC0\tC0\tC0\tC0\tC0\tC0\tC0\tC0\tC0\tC0\tC0\tC0\tC0\tC0\tC0\tC0\tC0\tC0\tC0\tC0\tC0\tC0\tC0\tC0\tC0\tC0\tC0\tC0\tC0\tC0\tC0\tC0\tC0\tC0\tC0\tC0\tC0\tC0\tC0\tC0\tC0\tC0\tC0\tC0\tC0\tC0\tC0\tC0\tC0\tC0\tC0\tC0\tC0\tC0\tC0\tC0\tC0\tC0\tC0\tC0\tC0\tC0\tC0\tC0\tC0\tC0\tC0\tC0\tC0\tC0\tC0\tC0\tC0\tC0\tC0\tC0\tC0\tC0\tC0\tC0\tC0\tC0\tC0\tC0\tC0\tC0\tC0\tC0\tC0\tC0\tC0\tC0\tC0\tC0\tC0\tC0\tC0\tC0\tC0\tC0\tC0\tC0\tC0\tC0\tC0\tC0\tC0\tC0\tC0\tC0\tC0\tC0\tC0\tC0\tC0\tC0\tC0\tC0\tC0\tC0\tC0\tC0\tC0\tC0\tC0\tC0\tC0\tC0\tC0\tC0\tC0\tC0\tC0\tC0\tC0\tC0\tC0\tC0\tC0\tC0\tC0\tC0\tC0\tC0\tC0\tC0\tC0\tC0\tC0\tC0\tC0\tC0\tC0\tC0\tC0\tC0\tC0\tC0\tC0\tC0\tC0\tC0\tC0\tC0\tC0\tC0\tC0\tC0\tC0\tC0\tC0\tC0\tC0\tC0\tC0\tC0\tC0\tC0\tC0\tC0\tC0\tC0\tC0\tC0\tC0\tC0\tC0\tC0\tC0\tC0\tC0\tC0\tC0\tC0\tC0\tC0\tC0\tC0\tC0\tC0\tC0\tC0\tC0\tC0\tC0\tC0\tC0\tC0\tC0\tC0\tC0\tC0\tC0\tC0\tC0\tC0\tC0\tC0\tC0\tC0\tC0\tC0\tC0\tC0\tC0\tC0\tC0\tC0\tC0\tC0\tC0\tC0\tC0\tC0\tC0\tC0\tC0\tC0\tC0\tC0\tC0\tC0\tC0\tC0\tC0\tC0\tC0\tC0\tC0\tC0\tC0\tC0\tC0\tC0\tC0\tC0\tC0\tC0\tC0\tC0\tC0\tC0\tC0\tC0\tC0\tC0\tC0\tC0\tC0\tC0\tC0\tC0\tC0\tC0\tC0\tC0\tC0\tC0\tC0\tC0\tC0\tC0\tC0\tC0\tC0\tC0\tC0\tC0\tC0\tC0\tC0\tC0\tC0\tC0\tC0\tC0\tC0\tC0\tC0\tC0\tC0\tC0\tC0\tC0\tC0\tC0\tC0\tC0\tC0\tC0\tC0\tC0\tC0\tC0\tC0\tC0\tC0\tC0\tC0\tC0\tC0\tC0\tC0\tC0\tC0\tC0\tC0\tC0\tC0\tC0\tC0\tC0\tC0\tC0\tC0\tC0\tC0\tC0\tC0\tC0\tC0\tC0\tC0\tC0\tC0\tC0\tC0\tC0\tC0\tC0\tC0\tC0\tC0\tC0\tC0\tC0\tC0\tC0\tC0\tC0\tC0\tC0\tC0\tC0\tC0\tC0\tC0\tC0\tC0\tC0\tC0\tC0\tC0\tC0\tC0\tC0\tC0\tC0\tC0\tC0\tC0\tC0\tC0\tC0\tC0\tC0\tC0\tC0\tC0\tC0\tC0\tC0\tC0\tC0\tC0\tC0\tC0\tC0\tC0\tC0\tC0\tC0\tC0\tC0\tC0\tC0\tC0\tC0\tC0\tC0\tC0\tC0\tC0\tC0\tC0\tC0\tC0\tC0\tC0\tC0\tC0\tC0\tC0\tC0\tC0\tC0\tC0\tC0\tC0\tC0\tC0\tC0\tC0\tC0\tC0\tC0\tC0\tC0\tC0\tC0\tC0\tC0\tC0\tC0\tC0\tC0\tC0\tC0\tC0\tC0\tC0\tC0\tC0\tC0\tC0\tC0\tC0\tC0\tC0\tC0\tC0\tC0\tC0\tC0\tC0\tC0\tC0\tC0\tC0\tC0\tC0\tC0\tC0\tC0\tC0\tC0\tC0\tC0\tC0\tC0\tC0\tC0\tC0\tC0\tC0\tC0\tC0\tC0\tC0\tC0\tC0\tC0\tC0\tC0\tC0\tC0\tC0\tC0\tC0\tC0\tC0\tC0\tC0\tC0\tC0\tC0\tC0\tC0\tC0\tC0\tC0\tC0\tC0\tC0\tC0\tC0\tC0\tC0\tC0\tExtending feature vectors with degree 3 ..\n"
     ]
    },
    {
     "name": "stdout",
     "output_type": "stream",
     "text": [
      "Running linear regression..\n",
      "Found the following sparse low degree polynomial:\n",
      " f = -5.39 x22 +5.01 x20 * x45-4.87 x6 * x27-2.81 x15 +2.60 x16 * x50 * x59\n",
      "----------------------------------------------------------\n",
      "----------------------------------------------------------\n",
      "Running hyperband as the base algorithm.\n",
      "B= 8000\n",
      "Smax= 4\n",
      "WARNING! Please implement the intermediate sampling algorithm.\n",
      "The current intermediate sampling algorithm is trivial. It cannot be applied to your application.\n",
      "----------------------------------------------------------\n",
      "s= 0\n",
      "n= 80\n",
      "Remaining.. 80\n",
      "r= 100\n",
      "C0\tC0\tC0\tC0\tC0\tC0\tC0\tC0\tC0\tC0\tC0\tC0\tC0\tC0\tC0\tC0\tC0\tC0\tC0\tC0\tC0\tC0\tC0\tC0\tC0\tC0\tC0\tC0\tC0\tC0\tC0\tC0\tC0\tC0\tC0\tC0\tC0\tC0\tC0\tC0\tC0\tC0\tC0\tC0\tC0\tC0\tC0\tC0\tC0\tC0\tC0\tC0\tC0\tC0\tC0\tC0\tC0\tC0\tC0\tC0\tC0\tC0\tC0\tC0\tC0\tC0\tC0\tC0\tC0\tC0\tC0\tC0\tC0\tC0\tC0\tC0\tC0\tC0\tC0\tC0\tC0\tC0\tC0\tC0\tC0\tC0\tC0\tC0\tC0\tC0\tC0\tC0\tC0\tC0\tC0\tC0\tC0\tC0\tC0\tC0\tC0\tC0\tC0\tC0\tC0\tC0\tC0\tC0\tC0\tC0\tC0\tC0\tC0\tC0\tC0\tC0\tC0\tC0\tC0\tC0\tC0\tC0\tC0\tC0\tC0\tC0\tC0\tC0\tC0\tC0\tC0\tC0\tC0\tC0\tC0\tC0\tC0\tC0\tC0\tC0\tC0\tC0\tC0\tC0\tC0\tC0\tC0\tC0\tC0\tC0\tC0\tC0\tC0\tC0\tC0\tC0\tC0\tC0\tC0\tC0\tC0\tC0\tC0\tC0\tC0\tC0\tC0\tC0\tC0\tC0\tC0\tC0\tC0\tC0\tC0\tC0\tC0\tC0\tC0\tC0\tC0\tC0\tC0\tC0\tC0\tC0\tC0\tC0\tC0\tC0\tC0\tC0\tC0\tC0\tC0\tC0\tC0\tC0\tC0\tC0\tC0\tC0\tC0\tC0\tC0\tC0\tC0\tC0\tC0\tC0\tC0\tC0\tC0\tC0\tC0\tC0\tC0\tC0\tC0\tC0\tC0\tC0\tC0\tC0\tC0\tC0\tC0\tC0\tC0\tC0\tC0\tC0\tC0\tC0\tC0\tC0\tC0\tC0\tC0\tC0\t----------------------------------------------------------\n",
      "s= 1\n",
      "n= 120\n",
      "Remaining.. 120\n",
      "r= 33\n",
      "C0\tC0\tC0\tC0\tC0\tC0\tC0\tC0\tC0\tC0\tC0\tC0\tC0\tC0\tC0\tC0\tC0\tC0\tC0\tC0\tC0\tC0\tC0\tC0\tC0\tC0\tC0\tC0\tC0\tC0\tC0\tC0\tC0\tC0\tC0\tC0\tC0\tC0\tC0\tC0\tC0\tC0\tC0\tC0\tC0\tC0\tC0\tC0\tC0\tC0\tC0\tC0\tC0\tC0\tC0\tC0\tC0\tC0\tC0\tC0\tC0\tC0\tC0\tC0\tC0\tC0\tC0\tC0\tC0\tC0\tC0\tC0\tC0\tC0\tC0\tC0\tC0\tC0\tC0\tC0\tC0\tC0\tC0\tC0\tC0\tC0\tC0\tC0\tC0\tC0\tC0\tC0\tC0\tC0\tC0\tC0\tC0\tC0\tC0\tC0\tC0\tC0\tC0\tC0\tC0\tC0\tC0\tC0\tC0\tC0\tC0\tC0\tC0\tC0\tC0\tC0\tC0\tC0\tC0\tC0\tC0\tC0\tC0\tC0\tC0\tC0\tC0\tC0\tC0\tC0\tC0\tC0\tC0\tC0\tC0\tC0\tC0\tC0\tC0\tC0\tC0\tC0\tC0\tC0\tC0\tC0\tC0\tC0\tC0\tC0\tC0\tC0\tC0\tC0\tC0\tC0\tC0\tC0\tC0\tC0\tC0\tC0\tC0\tC0\tC0\tC0\tC0\tC0\tC0\tC0\tC0\tC0\tC0\tC0\tC0\tC0\tC0\tC0\tC0\tC0\tC0\tC0\tC0\tC0\tC0\tC0\tC0\tC0\tC0\tC0\tC0\tC0\tC0\tC0\tC0\tC0\tC0\tC0\tC0\tC0\tC0\tC0\tC0\tC0\tC0\tC0\tC0\tC0\tC0\tC0\tC0\tC0\tC0\tC0\tC0\tC0\tC0\tC0\tC0\tC0\tC0\tC0\tC0\tC0\tC0\tC0\tC0\tC0\tC0\tC0\tC0\tC0\tC0\tC0\tC0\tC0\tC0\tC0\tC0\tC0\tC0\tC0\tC0\tC0\tC0\tC0\tC0\tC0\tC0\tC0\tC0\tC0\tC0\tC0\tC0\tC0\tC0\tC0\tC0\tC0\tC0\tC0\tC0\tC0\tC0\tC0\tC0\tC0\tC0\tC0\tC0\tC0\tC0\tC0\tC0\tC0\tC0\tC0\tC0\tC0\tC0\tC0\tC0\tC0\tC0\tC0\tC0\tC0\tC0\tC0\tC0\tC0\tC0\tC0\tC0\tC0\tC0\tC0\tC0\tC0\tC0\tC0\tC0\tC0\tC0\tC0\tC0\tC0\tC0\tC0\tC0\tC0\tC0\tC0\tC0\tC0\tC0\tC0\tC0\tC0\tC0\tC0\tC0\tC0\tC0\tC0\tC0\tC0\tC0\tC0\tC0\tC0\tC0\tC0\tC0\tC0\tC0\tC0\tC0\tC0\tC0\tC0\tC0\tC0\tC0\tC0\tC0\tC0\tC0\tC0\tC0\tC0\tC0\tC0\tC0\tC0\tC0\tC0\tC0\tC0\tRemaining.. 40\n",
      "r= 99.0\n",
      "C0\tC0\tC0\tC0\tC0\tC0\tC0\tC0\tC0\tC0\tC0\tC0\tC0\tC0\tC0\tC0\tC0\tC0\tC0\tC0\tC0\tC0\tC0\tC0\tC0\tC0\tC0\tC0\tC0\tC0\tC0\tC0\tC0\tC0\tC0\tC0\tC0\tC0\tC0\tC0\tC0\tC0\tC0\tC0\tC0\tC0\tC0\tC0\tC0\tC0\tC0\tC0\tC0\tC0\tC0\tC0\tC0\tC0\tC0\tC0\tC0\tC0\tC0\tC0\tC0\tC0\tC0\tC0\tC0\tC0\tC0\tC0\tC0\tC0\tC0\tC0\tC0\tC0\tC0\tC0\tC0\tC0\tC0\tC0\tC0\tC0\tC0\tC0\tC0\tC0\tC0\tC0\tC0\tC0\tC0\tC0\tC0\tC0\tC0\tC0\tC0\tC0\tC0\tC0\tC0\tC0\tC0\tC0\tC0\tC0\tC0\tC0\tC0\tC0\tC0\tC0\tC0\tC0\tC0\tC0\t----------------------------------------------------------\n",
      "s= 2\n",
      "n= 240\n",
      "Remaining.. 240\n",
      "r= 11\n",
      "C0\tC0\tC0\tC0\tC0\tC0\tC0\tC0\tC0\tC0\tC0\tC0\tC0\tC0\tC0\tC0\tC0\tC0\tC0\tC0\tC0\tC0\tC0\tC0\tC0\tC0\tC0\tC0\tC0\tC0\tC0\tC0\tC0\tC0\tC0\tC0\tC0\tC0\tC0\tC0\tC0\tC0\tC0\tC0\tC0\tC0\tC0\tC0\tC0\tC0\tC0\tC0\tC0\tC0\tC0\tC0\tC0\tC0\tC0\tC0\tC0\tC0\tC0\tC0\tC0\tC0\tC0\tC0\tC0\tC0\tC0\tC0\tC0\tC0\tC0\tC0\tC0\tC0\tC0\tC0\tC0\tC0\tC0\tC0\tC0\tC0\tC0\tC0\tC0\tC0\tC0\tC0\tC0\tC0\tC0\tC0\tC0\tC0\tC0\tC0\tC0\tC0\tC0\tC0\tC0\tC0\tC0\tC0\tC0\tC0\tC0\tC0\tC0\tC0\tC0\tC0\tC0\tC0\tC0\tC0\tC0\tC0\tC0\tC0\tC0\tC0\tC0\tC0\tC0\tC0\tC0\tC0\tC0\tC0\tC0\tC0\tC0\tC0\tC0\tC0\tC0\tC0\tC0\tC0\tC0\tC0\tC0\tC0\tC0\tC0\tC0\tC0\tC0\tC0\tC0\tC0\tC0\tC0\tC0\tC0\tC0\tC0\tC0\tC0\tC0\tC0\tC0\tC0\tC0\tC0\tC0\tC0\tC0\tC0\tC0\tC0\tC0\tC0\tC0\tC0\tC0\tC0\tC0\tC0\tC0\tC0\tC0\tC0\tC0\tC0\tC0\tC0\tC0\tC0\tC0\tC0\tC0\tC0\tC0\tC0\tC0\tC0\tC0\tC0\tC0\tC0\tC0\tC0\tC0\tC0\tC0\tC0\tC0\tC0\tC0\tC0\tC0\tC0\tC0\tC0\tC0\tC0\tC0\tC0\tC0\tC0\tC0\tC0\tC0\tC0\tC0\tC0\tC0\tC0\tC0\tC0\tC0\tC0\tC0\tC0\tC0\tC0\tC0\tC0\tC0\tC0\tC0\tC0\tC0\tC0\tC0\tC0\tC0\tC0\tC0\tC0\tC0\tC0\tC0\tC0\tC0\tC0\tC0\tC0\tC0\tC0\tC0\tC0\tC0\tC0\tC0\tC0\tC0\tC0\tC0\tC0\tC0\tC0\tC0\tC0\tC0\tC0\tC0\tC0\tC0\tC0\tC0\tC0\tC0\tC0\tC0\tC0\tC0\tC0\tC0\tC0\tC0\tC0\tC0\tC0\tC0\tC0\tC0\tC0\tC0\tC0\tC0\tC0\tC0\tC0\tC0\tC0\tC0\tC0\tC0\tC0\tC0\tC0\tC0\tC0\tC0\tC0\tC0\tC0\tC0\tC0\tC0\tC0\tC0\tC0\tC0\tC0\tC0\tC0\tC0\tC0\tC0\tC0\tC0\tC0\tC0\tC0\tC0\tC0\tC0\tC0\tC0\tC0\tC0\tC0\tC0\tC0\tC0\tC0\tC0\tC0\tC0\tC0\tC0\tC0\tC0\tC0\tC0\tC0\tC0\tC0\tC0\tC0\tC0\tC0\tC0\tC0\tC0\tC0\tC0\tC0\tC0\tC0\tC0\tC0\tC0\tC0\tC0\tC0\tC0\tC0\tC0\tC0\tC0\tC0\tC0\tC0\tC0\tC0\tC0\tC0\tC0\tC0\tC0\tC0\tC0\tC0\tC0\tC0\tC0\tC0\tC0\tC0\tC0\tC0\tC0\tC0\tC0\tC0\tC0\tC0\tC0\tC0\tC0\tC0\tC0\tC0\tC0\tC0\tC0\tC0\tC0\tC0\tC0\tC0\tC0\tC0\tC0\tC0\tC0\tC0\tC0\tC0\tC0\tC0\tC0\tC0\tC0\tC0\tC0\tC0\tC0\tC0\tC0\tC0\tC0\tC0\tC0\tC0\tC0\tC0\tC0\tC0\tC0\tC0\tC0\tC0\tC0\tC0\tC0\tC0\tC0\tC0\tC0\tC0\tC0\tC0\tC0\tC0\tC0\tC0\tC0\tC0\tC0\tC0\tC0\tC0\tC0\tC0\tC0\tC0\tC0\tC0\tC0\tC0\tC0\tC0\tC0\tC0\tC0\tC0\tC0\tC0\tC0\tC0\tC0\tC0\tC0\tC0\tC0\tC0\tC0\tC0\tC0\tC0\tC0\tC0\tC0\tC0\tC0\tC0\tC0\tC0\tC0\tC0\tC0\tC0\tC0\tC0\tC0\tC0\tC0\tC0\tC0\tC0\tC0\tC0\tC0\tC0\tC0\tC0\tC0\tC0\tC0\tC0\tC0\tC0\tC0\tC0\tC0\tC0\tC0\tC0\tC0\tC0\tC0\tC0\tC0\tC0\tC0\tC0\tC0\tC0\tC0\tC0\tC0\tC0\tC0\tC0\tC0\tC0\tC0\tC0\tC0\tC0\tC0\tC0\tC0\tC0\tC0\tC0\tC0\tC0\tC0\tC0\tC0\tC0\tC0\tC0\tC0\tC0\tC0\tC0\tC0\tC0\tC0\tC0\tC0\tC0\tC0\tC0\tC0\tC0\tC0\tC0\tC0\tC0\tC0\tC0\tC0\tC0\tC0\tC0\tC0\tC0\tC0\tC0\tC0\tC0\tC0\tC0\tC0\tC0\tC0\tC0\tC0\tC0\tC0\tC0\tC0\tC0\tC0\tC0\tC0\tC0\tC0\tC0\tC0\tC0\tC0\tC0\tC0\tC0\tC0\tC0\tC0\tC0\tC0\tC0\tC0\tC0\tC0\tC0\tC0\tC0\tC0\tC0\tC0\tC0\tC0\tC0\tC0\tC0\tC0\tC0\tC0\tC0\tC0\tC0\tC0\tC0\tC0\tC0\tC0\tC0\tC0\tC0\tC0\tC0\tC0\tC0\tC0\tC0\tC0\tC0\tC0\tC0\tC0\tC0\tC0\tC0\tC0\tC0\tC0\tC0\tC0\tC0\tC0\tC0\tC0\tC0\tC0\tC0\tC0\tC0\tC0\tC0\tC0\tC0\tC0\tC0\tC0\tC0\tC0\tC0\tC0\tC0\tC0\tC0\tC0\tC0\tC0\tC0\tC0\tC0\tRemaining.. 80\n",
      "r= 33.0\n",
      "C0\tC0\tC0\tC0\tC0\tC0\tC0\tC0\tC0\tC0\tC0\tC0\tC0\tC0\tC0\tC0\tC0\tC0\tC0\tC0\tC0\tC0\tC0\tC0\tC0\tC0\tC0\tC0\tC0\tC0\tC0\tC0\tC0\tC0\tC0\tC0\tC0\tC0\tC0\tC0\tC0\tC0\tC0\tC0\tC0\tC0\tC0\tC0\tC0\tC0\tC0\tC0\tC0\tC0\tC0\tC0\tC0\tC0\tC0\tC0\tC0\tC0\tC0\tC0\tC0\tC0\tC0\tC0\tC0\tC0\tC0\tC0\tC0\tC0\tC0\tC0\tC0\tC0\tC0\tC0\tC0\tC0\tC0\tC0\tC0\tC0\tC0\tC0\tC0\tC0\tC0\tC0\tC0\tC0\tC0\tC0\tC0\tC0\tC0\tC0\tC0\tC0\tC0\tC0\tC0\tC0\tC0\tC0\tC0\tC0\tC0\tC0\tC0\tC0\tC0\tC0\tC0\tC0\tC0\tC0\tC0\tC0\tC0\tC0\tC0\tC0\tC0\tC0\tC0\tC0\tC0\tC0\tC0\tC0\tC0\tC0\tC0\tC0\tC0\tC0\tC0\tC0\tC0\tC0\tC0\tC0\tC0\tC0\tC0\tC0\tC0\tC0\tC0\tC0\tC0\tC0\tC0\tC0\tC0\tC0\tC0\tC0\tC0\tC0\tC0\tC0\tC0\tC0\tC0\tC0\tC0\tC0\tC0\tC0\tC0\tC0\tC0\tC0\tC0\tC0\tC0\tC0\tC0\tC0\tC0\tC0\tC0\tC0\tC0\tC0\tC0\tC0\tC0\tC0\tC0\tC0\tC0\tC0\tC0\tC0\tC0\tC0\tC0\tC0\tC0\tC0\tC0\tC0\tC0\tC0\tC0\tC0\tC0\tC0\tC0\tC0\tC0\tC0\tC0\tC0\tC0\tC0\tC0\tC0\tC0\tC0\tC0\tC0\tC0\tC0\tC0\tC0\tC0\tC0\tC0\tC0\tC0\tC0\tC0\tC0\tRemaining.. 27\n",
      "r= 99.0\n",
      "C0\tC0\tC0\tC0\tC0\tC0\tC0\tC0\tC0\tC0\tC0\tC0\tC0\tC0\tC0\tC0\tC0\tC0\tC0\tC0\tC0\tC0\tC0\tC0\tC0\tC0\tC0\tC0\tC0\tC0\tC0\tC0\tC0\tC0\tC0\tC0\tC0\tC0\tC0\tC0\tC0\tC0\tC0\tC0\tC0\tC0\tC0\tC0\tC0\tC0\tC0\tC0\tC0\tC0\tC0\tC0\tC0\tC0\tC0\tC0\tC0\tC0\tC0\tC0\tC0\tC0\tC0\tC0\tC0\tC0\tC0\tC0\tC0\tC0\tC0\tC0\tC0\tC0\tC0\tC0\tC0\t----------------------------------------------------------\n",
      "s= 3\n",
      "n= 540\n",
      "Remaining.. 540\n",
      "r= 3\n",
      "C0\tC0\tC0\tC0\tC0\tC0\tC0\tC0\tC0\tC0\tC0\tC0\tC0\tC0\tC0\tC0\tC0\tC0\tC0\tC0\tC0\tC0\tC0\tC0\tC0\tC0\tC0\tC0\tC0\tC0\tC0\tC0\tC0\tC0\tC0\tC0\tC0\tC0\tC0\tC0\tC0\tC0\tC0\tC0\tC0\tC0\tC0\tC0\tC0\tC0\tC0\tC0\tC0\tC0\tC0\tC0\tC0\tC0\tC0\tC0\tC0\tC0\tC0\tC0\tC0\tC0\tC0\tC0\tC0\tC0\tC0\tC0\tC0\tC0\tC0\tC0\tC0\tC0\tC0\tC0\tC0\tC0\tC0\tC0\tC0\tC0\tC0\tC0\tC0\tC0\tC0\tC0\tC0\tC0\tC0\tC0\tC0\tC0\tC0\tC0\tC0\tC0\tC0\tC0\tC0\tC0\tC0\tC0\tC0\tC0\tC0\tC0\tC0\tC0\tC0\tC0\tC0\tC0\tC0\tC0\tC0\tC0\tC0\tC0\tC0\tC0\tC0\tC0\tC0\tC0\tC0\tC0\tC0\tC0\tC0\tC0\tC0\tC0\tC0\tC0\tC0\tC0\tC0\tC0\tC0\tC0\tC0\tC0\tC0\tC0\tC0\tC0\tC0\tC0\tC0\tC0\tC0\tC0\tC0\tC0\tC0\tC0\tC0\tC0\tC0\tC0\tC0\tC0\tC0\tC0\tC0\tC0\tC0\tC0\tC0\tC0\tC0\tC0\tC0\tC0\tC0\tC0\tC0\tC0\tC0\tC0\tC0\tC0\tC0\tC0\tC0\tC0\tC0\tC0\tC0\tC0\tC0\tC0\tC0\tC0\tC0\tC0\tC0\tC0\tC0\tC0\tC0\tC0\tC0\tC0\tC0\tC0\tC0\tC0\tC0\tC0\tC0\tC0\tC0\tC0\tC0\tC0\tC0\tC0\tC0\tC0\tC0\tC0\tC0\tC0\tC0\tC0\tC0\tC0\tC0\tC0\tC0\tC0\tC0\tC0\tC0\tC0\tC0\tC0\tC0\tC0\tC0\tC0\tC0\tC0\tC0\tC0\tC0\tC0\tC0\tC0\tC0\tC0\tC0\tC0\tC0\tC0\tC0\tC0\tC0\tC0\tC0\tC0\tC0\tC0\tC0\tC0\tC0\tC0\tC0\tC0\tC0\tC0\tC0\tC0\tC0\tC0\tC0\tC0\tC0\tC0\tC0\tC0\tC0\tC0\tC0\tC0\tC0\tC0\tC0\tC0\tC0\tC0\tC0\tC0\tC0\tC0\tC0\tC0\tC0\tC0\tC0\tC0\tC0\tC0\tC0\tC0\tC0\tC0\tC0\tC0\tC0\tC0\tC0\tC0\tC0\tC0\tC0\tC0\tC0\tC0\tC0\tC0\tC0\tC0\tC0\tC0\tC0\tC0\tC0\tC0\tC0\tC0\tC0\tC0\tC0\tC0\tC0\tC0\tC0\tC0\tC0\tC0\tC0\tC0\tC0\tC0\tC0\tC0\tC0\tC0\tC0\tC0\tC0\tC0\tC0\tC0\tC0\tC0\tC0\tC0\tC0\tC0\tC0\tC0\tC0\tC0\tC0\tC0\tC0\tC0\tC0\tC0\tC0\tC0\tC0\tC0\tC0\tC0\tC0\tC0\tC0\tC0\tC0\tC0\tC0\tC0\tC0\tC0\tC0\tC0\tC0\tC0\tC0\tC0\tC0\tC0\tC0\tC0\tC0\tC0\tC0\tC0\tC0\tC0\tC0\tC0\tC0\tC0\tC0\tC0\tC0\tC0\tC0\tC0\tC0\tC0\tC0\tC0\tC0\tC0\tC0\tC0\tC0\tC0\tC0\tC0\tC0\tC0\tC0\tC0\tC0\tC0\tC0\tC0\tC0\tC0\tC0\tC0\tC0\tC0\tC0\tC0\tC0\tC0\tC0\tC0\tC0\tC0\tC0\tC0\tC0\tC0\tC0\tC0\tC0\tC0\tC0\tC0\tC0\tC0\tC0\tC0\tC0\tC0\tC0\tC0\tC0\tC0\tC0\tC0\tC0\tC0\tC0\tC0\tC0\tC0\tC0\tC0\tC0\tC0\tC0\tC0\tC0\tC0\tC0\tC0\tC0\tC0\tC0\tC0\tC0\tC0\tC0\tC0\tC0\tC0\tC0\tC0\tC0\tC0\tC0\tC0\tC0\tC0\tC0\tC0\tC0\tC0\tC0\tC0\tC0\tC0\tC0\tC0\tC0\tC0\tC0\tC0\tC0\tC0\tC0\tC0\tC0\tC0\tC0\tC0\tC0\tC0\tC0\tC0\tC0\tC0\tC0\tC0\tC0\tC0\tC0\tC0\tC0\tC0\tC0\tC0\tC0\tC0\tC0\tC0\tC0\tC0\tC0\tC0\tC0\tC0\tC0\tC0\tC0\tC0\tC0\tC0\tC0\tC0\tC0\tC0\tC0\tC0\tC0\tC0\tC0\tC0\tC0\tC0\tC0\tC0\tC0\tC0\tC0\tC0\tC0\tC0\tC0\tC0\tC0\tC0\tC0\tC0\tC0\tC0\tC0\tC0\tC0\tC0\tC0\tC0\tC0\tC0\tC0\tC0\tC0\tC0\tC0\tC0\tC0\tC0\tC0\tC0\tC0\tC0\tC0\tC0\tC0\tC0\tC0\tC0\tC0\tC0\tC0\tC0\tC0\tC0\tC0\tC0\tC0\tC0\tC0\tC0\tC0\tC0\tC0\tC0\tC0\tC0\tC0\tC0\tC0\tC0\tC0\tC0\tC0\tC0\tC0\tC0\tC0\tC0\tC0\tC0\tC0\tC0\tC0\tC0\tC0\tC0\tC0\tC0\tC0\tC0\tC0\tC0\tC0\tC0\tC0\tC0\tC0\tC0\tC0\tC0\tC0\tC0\tC0\tC0\tC0\tC0\tC0\tC0\tC0\tC0\tC0\tC0\tC0\tC0\tC0\tC0\tC0\tC0\tC0\tC0\tC0\tC0\tC0\tC0\tC0\tC0\tC0\tC0\tC0\tC0\tC0\tC0\tC0\tC0\tC0\tC0\tC0\tC0\tC0\tC0\tC0\tC0\tC0\tC0\tC0\tC0\tC0\tC0\tC0\tC0\tC0\tC0\tC0\tC0\tC0\tC0\tC0\tC0\tC0\tC0\tC0\tC0\tC0\tC0\tC0\tC0\tC0\tC0\tC0\tC0\tC0\tC0\tC0\tC0\tC0\tC0\tC0\tC0\tC0\tC0\tC0\tC0\tC0\tC0\tC0\tC0\tC0\tC0\tC0\tC0\tC0\tC0\tC0\tC0\tC0\tC0\tC0\tC0\tC0\tC0\tC0\tC0\tC0\tC0\tC0\tC0\tC0\tC0\tC0\tC0\tC0\tC0\tC0\tC0\tC0\tC0\tC0\tC0\tC0\tC0\tC0\tC0\tC0\tC0\tC0\tC0\tC0\tC0\tC0\tC0\tC0\tC0\tC0\tC0\tC0\tC0\tC0\tC0\tC0\tC0\tC0\tC0\tC0\tC0\tC0\tC0\tC0\tC0\tC0\tC0\tC0\tC0\tC0\tC0\tC0\tC0\tC0\tC0\tC0\tC0\tC0\tC0\tC0\tC0\tC0\tC0\tC0\tC0\tC0\tC0\tC0\tC0\tC0\tC0\tC0\tC0\tC0\tC0\tC0\tC0\tC0\tC0\tC0\tC0\tC0\tC0\tC0\tC0\tC0\tC0\tC0\tC0\tC0\tC0\tC0\tC0\tC0\tC0\tC0\tC0\tC0\tC0\tC0\tC0\tC0\tC0\tC0\tC0\tC0\tC0\tC0\tC0\tC0\tC0\tC0\tC0\tC0\tC0\tC0\tC0\tC0\tC0\tC0\tC0\tC0\tC0\tC0\tC0\tC0\tC0\tC0\tC0\tC0\tC0\tC0\tC0\tC0\tC0\tC0\tC0\tC0\tC0\tC0\tC0\tC0\tC0\tC0\tC0\tC0\tC0\tC0\tC0\tC0\tC0\tC0\tC0\tC0\tC0\tC0\tC0\tC0\tC0\tC0\tC0\tC0\tC0\tC0\tC0\tC0\tC0\tC0\tC0\tC0\tC0\tC0\tC0\tC0\tC0\tC0\tC0\tC0\tC0\tC0\tC0\tC0\tC0\tC0\tC0\tC0\tC0\tC0\tC0\tC0\tC0\tC0\tC0\tC0\tC0\tC0\tC0\tC0\tC0\tC0\tC0\tC0\tC0\tC0\tC0\tC0\tC0\tC0\tC0\tC0\tC0\tC0\tC0\tC0\tC0\tC0\tC0\tC0\tC0\tC0\tC0\tC0\tC0\tC0\tC0\tC0\tC0\tC0\tC0\tC0\tC0\tC0\tC0\tC0\tC0\tC0\tC0\tC0\tC0\tC0\tC0\tC0\tC0\tC0\tC0\tC0\tC0\tC0\tC0\tC0\tC0\tC0\tC0\tC0\tC0\tC0\tC0\tC0\tC0\tC0\tC0\tC0\tC0\tC0\tC0\tC0\tC0\tC0\tC0\tC0\tC0\tC0\tC0\tC0\tC0\tC0\tC0\tC0\tC0\tC0\tC0\tC0\tC0\tC0\tC0\tC0\tC0\tC0\tC0\tC0\tC0\tC0\tC0\tC0\tC0\tC0\tC0\tC0\tC0\tC0\tC0\tC0\tC0\tC0\tC0\tC0\tC0\tC0\tC0\tC0\tC0\tC0\tC0\tC0\tC0\tC0\tC0\tC0\tC0\tC0\tC0\tC0\tC0\tC0\tC0\tC0\tC0\tC0\tC0\tC0\tC0\tC0\tC0\tC0\tC0\tC0\tC0\tC0\tC0\tC0\tC0\tC0\tC0\tC0\tC0\tC0\tC0\tC0\tC0\tC0\tC0\tC0\tC0\tC0\tC0\tC0\tC0\tC0\tC0\tC0\tC0\tC0\tC0\tC0\tC0\tC0\tC0\tC0\tC0\tC0\tC0\tC0\tC0\tC0\tC0\tC0\tC0\tC0\tC0\tC0\tC0\tC0\tC0\tC0\tC0\tC0\tC0\tC0\tC0\tC0\tC0\tC0\tC0\tC0\tC0\tC0\tC0\tC0\tC0\tC0\tC0\tC0\tC0\tC0\tC0\tC0\tC0\tC0\tC0\tC0\tC0\tC0\tC0\tC0\tC0\tC0\tC0\tC0\tC0\tC0\tC0\tC0\tC0\tC0\tC0\tC0\tC0\tC0\tC0\tC0\tC0\tC0\tC0\tC0\tC0\tC0\tC0\tC0\tC0\tC0\tC0\tC0\tC0\tC0\tC0\tC0\tC0\tC0\tC0\tC0\tC0\tC0\tC0\tC0\tC0\tC0\tC0\tC0\tC0\tC0\tC0\tC0\tC0\tC0\tC0\tC0\tC0\tC0\tC0\tC0\tC0\tC0\tC0\tC0\tC0\tC0\tC0\tC0\tC0\tC0\tC0\tC0\tC0\tC0\tC0\tC0\tC0\tC0\tC0\tC0\tC0\tC0\tC0\tC0\tC0\tC0\tC0\tC0\tC0\tC0\tC0\tC0\tC0\tC0\tC0\tC0\tC0\tC0\tC0\tC0\tC0\tC0\tC0\tC0\tC0\tC0\tC0\tC0\tC0\tC0\tC0\tC0\tC0\tC0\tC0\tC0\tC0\tC0\tC0\tC0\tC0\tC0\tC0\tC0\tC0\tC0\tC0\tC0\tC0\tC0\tC0\tC0\tC0\tC0\tC0\tC0\tC0\tC0\tC0\tC0\tC0\tC0\tC0\tC0\tC0\tC0\tC0\tC0\tC0\tC0\tC0\tC0\tC0\tC0\tC0\tC0\tC0\tC0\tC0\tC0\tC0\tC0\tC0\tC0\tC0\tC0\tC0\tC0\tC0\tC0\tC0\tC0\tC0\tC0\tC0\tC0\tC0\tC0\tC0\tC0\tC0\tC0\tC0\tC0\tC0\tC0\tC0\tC0\tC0\tC0\tC0\tC0\tC0\tC0\tC0\tC0\tC0\tC0\tC0\tC0\tC0\tC0\tC0\tC0\tC0\tC0\tC0\tC0\tC0\tC0\tC0\tC0\tC0\tC0\tC0\tC0\tC0\tC0\tC0\tC0\tC0\tC0\tC0\tC0\tC0\tC0\tC0\tC0\tC0\tC0\tC0\tC0\tC0\tC0\tC0\tC0\tC0\tC0\tC0\tC0\tC0\tC0\tC0\tC0\tC0\tC0\tC0\tC0\tC0\tC0\tC0\tC0\tC0\tC0\tC0\tC0\tC0\tC0\tC0\tC0\tC0\tC0\tC0\tC0\tC0\tC0\tC0\tC0\tC0\tC0\tC0\tC0\tC0\tC0\tC0\tC0\tC0\tC0\tC0\tC0\tC0\tC0\tC0\tC0\tC0\tC0\tC0\tC0\tC0\tC0\tC0\tC0\tC0\tC0\tC0\tC0\tC0\tC0\tC0\tC0\tC0\tC0\tC0\tC0\tC0\tC0\tC0\tC0\tC0\tC0\tC0\tC0\tC0\tC0\tC0\tC0\tC0\tC0\tC0\tC0\tC0\tC0\tC0\tC0\tC0\tC0\tC0\tC0\tC0\tC0\tC0\tC0\tC0\tC0\tC0\tC0\tC0\tC0\tC0\tC0\tC0\tC0\tC0\tC0\tC0\tC0\tC0\tC0\tC0\tC0\tC0\tC0\tC0\tC0\tC0\tC0\tC0\tC0\tC0\tC0\tC0\tC0\tC0\tC0\tC0\tC0\tC0\tC0\tC0\tC0\tC0\tC0\tC0\tC0\tC0\tC0\tC0\tC0\tC0\tC0\tC0\tC0\tC0\tC0\tC0\tC0\tC0\tC0\tC0\tC0\tC0\tC0\tC0\tC0\tC0\tC0\tC0\tC0\tC0\tC0\tC0\tC0\tC0\tC0\tC0\tC0\tC0\tC0\tC0\tC0\tC0\tC0\tC0\tC0\tC0\tC0\tC0\tC0\tC0\tC0\tC0\tC0\tC0\tC0\tC0\tC0\tC0\tC0\tC0\tC0\tC0\tC0\tC0\tC0\tC0\tC0\tC0\tRemaining.. 180\n",
      "r= 9.0\n",
      "C0\tC0\tC0\tC0\tC0\tC0\tC0\tC0\tC0\tC0\tC0\tC0\tC0\tC0\tC0\tC0\tC0\tC0\tC0\tC0\tC0\tC0\tC0\tC0\tC0\tC0\tC0\tC0\tC0\tC0\tC0\tC0\tC0\tC0\tC0\tC0\tC0\tC0\tC0\tC0\tC0\tC0\tC0\tC0\tC0\tC0\tC0\tC0\tC0\tC0\tC0\tC0\tC0\tC0\tC0\tC0\tC0\tC0\tC0\tC0\tC0\tC0\tC0\tC0\tC0\tC0\tC0\tC0\tC0\tC0\tC0\tC0\tC0\tC0\tC0\tC0\tC0\tC0\tC0\tC0\tC0\tC0\tC0\tC0\tC0\tC0\tC0\tC0\tC0\tC0\tC0\tC0\tC0\tC0\tC0\tC0\tC0\tC0\tC0\tC0\tC0\tC0\tC0\tC0\tC0\tC0\tC0\tC0\tC0\tC0\tC0\tC0\tC0\tC0\tC0\tC0\tC0\tC0\tC0\tC0\tC0\tC0\tC0\tC0\tC0\tC0\tC0\tC0\tC0\tC0\tC0\tC0\tC0\tC0\tC0\tC0\tC0\tC0\tC0\tC0\tC0\tC0\tC0\tC0\tC0\tC0\tC0\tC0\tC0\tC0\tC0\tC0\tC0\tC0\tC0\tC0\tC0\tC0\tC0\tC0\tC0\tC0\tC0\tC0\tC0\tC0\tC0\tC0\tC0\tC0\tC0\tC0\tC0\tC0\tC0\tC0\tC0\tC0\tC0\tC0\tC0\tC0\tC0\tC0\tC0\tC0\tC0\tC0\tC0\tC0\tC0\tC0\tC0\tC0\tC0\tC0\tC0\tC0\tC0\tC0\tC0\tC0\tC0\tC0\tC0\tC0\tC0\tC0\tC0\tC0\tC0\tC0\tC0\tC0\tC0\tC0\tC0\tC0\tC0\tC0\tC0\tC0\tC0\tC0\tC0\tC0\tC0\tC0\tC0\tC0\tC0\tC0\tC0\tC0\tC0\tC0\tC0\tC0\tC0\tC0\tC0\tC0\tC0\tC0\tC0\tC0\tC0\tC0\tC0\tC0\tC0\tC0\tC0\tC0\tC0\tC0\tC0\tC0\tC0\tC0\tC0\tC0\tC0\tC0\tC0\tC0\tC0\tC0\tC0\tC0\tC0\tC0\tC0\tC0\tC0\tC0\tC0\tC0\tC0\tC0\tC0\tC0\tC0\tC0\tC0\tC0\tC0\tC0\tC0\tC0\tC0\tC0\tC0\tC0\tC0\tC0\tC0\tC0\tC0\tC0\tC0\tC0\tC0\tC0\tC0\tC0\tC0\tC0\tC0\tC0\tC0\tC0\tC0\tC0\tC0\tC0\tC0\tC0\tC0\tC0\tC0\tC0\tC0\tC0\tC0\tC0\tC0\tC0\tC0\tC0\tC0\tC0\tC0\tC0\tC0\tC0\tC0\tC0\tC0\tC0\tC0\tC0\tC0\tC0\tC0\tC0\tC0\tC0\tC0\tC0\tC0\tC0\tC0\tC0\tC0\tC0\tC0\tC0\tC0\tC0\tC0\tC0\tC0\tC0\tC0\tC0\tC0\tC0\tC0\tC0\tC0\tC0\tC0\tC0\tC0\tC0\tC0\tC0\tC0\tC0\tC0\tC0\tC0\tC0\tC0\tC0\tC0\tC0\tC0\tC0\tC0\tC0\tC0\tC0\tC0\tC0\tC0\tC0\tC0\tC0\tC0\tC0\tC0\tC0\tC0\tC0\tC0\tC0\tC0\tC0\tC0\tC0\tC0\tC0\tC0\tC0\tC0\tC0\tC0\tC0\tC0\tC0\tC0\tC0\tC0\tC0\tC0\tC0\tC0\tC0\tC0\tC0\tC0\tC0\tC0\tC0\tC0\tC0\tC0\tC0\tC0\tC0\tC0\tC0\tC0\tC0\tC0\tC0\tC0\tC0\tC0\tC0\tC0\tC0\tC0\tC0\tC0\tC0\tC0\tC0\tC0\tC0\tC0\tC0\tC0\tC0\tC0\tC0\tC0\tC0\tC0\tC0\tC0\tC0\tC0\tC0\tC0\tC0\tC0\tC0\tC0\tC0\tC0\tC0\tC0\tC0\tC0\tC0\tC0\tC0\tC0\tC0\tC0\tC0\tC0\tC0\tC0\tC0\tC0\tC0\tC0\tC0\tC0\tC0\tC0\tC0\tC0\tC0\tC0\tC0\tC0\tC0\tC0\tC0\tC0\tC0\tC0\tC0\tC0\tC0\tC0\tC0\tC0\tC0\tC0\tC0\tC0\tC0\tC0\tC0\tC0\tC0\tC0\tC0\tC0\tC0\tC0\tC0\tC0\tC0\tRemaining.. 60\n",
      "r= 27.0\n",
      "C0\tC0\tC0\tC0\tC0\tC0\tC0\tC0\tC0\tC0\tC0\tC0\tC0\tC0\tC0\tC0\tC0\tC0\tC0\tC0\tC0\tC0\tC0\tC0\tC0\tC0\tC0\tC0\tC0\tC0\tC0\tC0\tC0\tC0\tC0\tC0\tC0\tC0\tC0\tC0\tC0\tC0\tC0\tC0\tC0\tC0\tC0\tC0\tC0\tC0\tC0\tC0\tC0\tC0\tC0\tC0\tC0\tC0\tC0\tC0\tC0\tC0\tC0\tC0\tC0\tC0\tC0\tC0\tC0\tC0\tC0\tC0\tC0\tC0\tC0\tC0\tC0\tC0\tC0\tC0\tC0\tC0\tC0\tC0\tC0\tC0\tC0\tC0\tC0\tC0\tC0\tC0\tC0\tC0\tC0\tC0\tC0\tC0\tC0\tC0\tC0\tC0\tC0\tC0\tC0\tC0\tC0\tC0\tC0\tC0\tC0\tC0\tC0\tC0\tC0\tC0\tC0\tC0\tC0\tC0\tC0\tC0\tC0\tC0\tC0\tC0\tC0\tC0\tC0\tC0\tC0\tC0\tC0\tC0\tC0\tC0\tC0\tC0\tC0\tC0\tC0\tC0\tC0\tC0\tC0\tC0\tC0\tC0\tC0\tC0\tC0\tC0\tC0\tC0\tC0\tC0\tC0\tC0\tC0\tC0\tC0\tC0\tC0\tC0\tC0\tC0\tC0\tC0\tC0\tC0\tC0\tC0\tC0\tC0\tC0\tC0\tC0\tC0\tC0\tC0\tRemaining.. 20\n",
      "r= 81.0\n",
      "C0\tC0\tC0\tC0\tC0\tC0\tC0\tC0\tC0\tC0\tC0\tC0\tC0\tC0\tC0\tC0\tC0\tC0\tC0\tC0\tC0\tC0\tC0\tC0\tC0\tC0\tC0\tC0\tC0\tC0\tC0\tC0\tC0\tC0\tC0\tC0\tC0\tC0\tC0\tC0\tC0\tC0\tC0\tC0\tC0\tC0\tC0\tC0\tC0\tC0\tC0\tC0\tC0\tC0\tC0\tC0\tC0\tC0\tC0\tC0\t----------------------------------------------------------\n",
      "s= 4\n",
      "n= 1296\n"
     ]
    },
    {
     "name": "stdout",
     "output_type": "stream",
     "text": [
      "Remaining.. 1296\n",
      "r= 1\n",
      "C0\tC0\tC0\tC0\tC0\tC0\tC0\tC0\tC0\tC0\tC0\tC0\tC0\tC0\tC0\tC0\tC0\tC0\tC0\tC0\tC0\tC0\tC0\tC0\tC0\tC0\tC0\tC0\tC0\tC0\tC0\tC0\tC0\tC0\tC0\tC0\tC0\tC0\tC0\tC0\tC0\tC0\tC0\tC0\tC0\tC0\tC0\tC0\tC0\tC0\tC0\tC0\tC0\tC0\tC0\tC0\tC0\tC0\tC0\tC0\tC0\tC0\tC0\tC0\tC0\tC0\tC0\tC0\tC0\tC0\tC0\tC0\tC0\tC0\tC0\tC0\tC0\tC0\tC0\tC0\tC0\tC0\tC0\tC0\tC0\tC0\tC0\tC0\tC0\tC0\tC0\tC0\tC0\tC0\tC0\tC0\tC0\tC0\tC0\tC0\tC0\tC0\tC0\tC0\tC0\tC0\tC0\tC0\tC0\tC0\tC0\tC0\tC0\tC0\tC0\tC0\tC0\tC0\tC0\tC0\tC0\tC0\tC0\tC0\tC0\tC0\tC0\tC0\tC0\tC0\tC0\tC0\tC0\tC0\tC0\tC0\tC0\tC0\tC0\tC0\tC0\tC0\tC0\tC0\tC0\tC0\tC0\tC0\tC0\tC0\tC0\tC0\tC0\tC0\tC0\tC0\tC0\tC0\tC0\tC0\tC0\tC0\tC0\tC0\tC0\tC0\tC0\tC0\tC0\tC0\tC0\tC0\tC0\tC0\tC0\tC0\tC0\tC0\tC0\tC0\tC0\tC0\tC0\tC0\tC0\tC0\tC0\tC0\tC0\tC0\tC0\tC0\tC0\tC0\tC0\tC0\tC0\tC0\tC0\tC0\tC0\tC0\tC0\tC0\tC0\tC0\tC0\tC0\tC0\tC0\tC0\tC0\tC0\tC0\tC0\tC0\tC0\tC0\tC0\tC0\tC0\tC0\tC0\tC0\tC0\tC0\tC0\tC0\tC0\tC0\tC0\tC0\tC0\tC0\tC0\tC0\tC0\tC0\tC0\tC0\tC0\tC0\tC0\tC0\tC0\tC0\tC0\tC0\tC0\tC0\tC0\tC0\tC0\tC0\tC0\tC0\tC0\tC0\tC0\tC0\tC0\tC0\tC0\tC0\tC0\tC0\tC0\tC0\tC0\tC0\tC0\tC0\tC0\tC0\tC0\tC0\tC0\tC0\tC0\tC0\tC0\tC0\tC0\tC0\tC0\tC0\tC0\tC0\tC0\tC0\tC0\tC0\tC0\tC0\tC0\tC0\tC0\tC0\tC0\tC0\tC0\tC0\tC0\tC0\tC0\tC0\tC0\tC0\tC0\tC0\tC0\tC0\tC0\tC0\tC0\tC0\tC0\tC0\tC0\tC0\tC0\tC0\tC0\tC0\tC0\tC0\tC0\tC0\tC0\tC0\tC0\tC0\tC0\tC0\tC0\tC0\tC0\tC0\tC0\tC0\tC0\tC0\tC0\tC0\tC0\tC0\tC0\tC0\tC0\tC0\tC0\tC0\tC0\tC0\tC0\tC0\tC0\tC0\tC0\tC0\tC0\tC0\tC0\tC0\tC0\tC0\tC0\tC0\tC0\tC0\tC0\tC0\tC0\tC0\tC0\tC0\tC0\tC0\tC0\tC0\tC0\tC0\tC0\tC0\tC0\tC0\tC0\tC0\tC0\tC0\tC0\tC0\tC0\tC0\tC0\tC0\tC0\tC0\tC0\tC0\tC0\tC0\tC0\tC0\tC0\tC0\tC0\tC0\tC0\tC0\tC0\tC0\tC0\tC0\tC0\tC0\tC0\tC0\tC0\tC0\tC0\tC0\tC0\tC0\tC0\tC0\tC0\tC0\tC0\tC0\tC0\tC0\tC0\tC0\tC0\tC0\tC0\tC0\tC0\tC0\tC0\tC0\tC0\tC0\tC0\tC0\tC0\tC0\tC0\tC0\tC0\tC0\tC0\tC0\tC0\tC0\tC0\tC0\tC0\tC0\tC0\tC0\tC0\tC0\tC0\tC0\tC0\tC0\tC0\tC0\tC0\tC0\tC0\tC0\tC0\tC0\tC0\tC0\tC0\tC0\tC0\tC0\tC0\tC0\tC0\tC0\tC0\tC0\tC0\tC0\tC0\tC0\tC0\tC0\tC0\tC0\tC0\tC0\tC0\tC0\tC0\tC0\tC0\tC0\tC0\tC0\tC0\tC0\tC0\tC0\tC0\tC0\tC0\tC0\tC0\tC0\tC0\tC0\tC0\tC0\tC0\tC0\tC0\tC0\tC0\tC0\tC0\tC0\tC0\tC0\tC0\tC0\tC0\tC0\tC0\tC0\tC0\tC0\tC0\tC0\tC0\tC0\tC0\tC0\tC0\tC0\tC0\tC0\tC0\tC0\tC0\tC0\tC0\tC0\tC0\tC0\tC0\tC0\tC0\tC0\tC0\tC0\tC0\tC0\tC0\tC0\tC0\tC0\tC0\tC0\tC0\tC0\tC0\tC0\tC0\tC0\tC0\tC0\tC0\tC0\tC0\tC0\tC0\tC0\tC0\tC0\tC0\tC0\tC0\tC0\tC0\tC0\tC0\tC0\tC0\tC0\tC0\tC0\tC0\tC0\tC0\tC0\tC0\tC0\tC0\tC0\tC0\tC0\tC0\tC0\tC0\tC0\tC0\tC0\tC0\tC0\tC0\tC0\tC0\tC0\tC0\tC0\tC0\tC0\tC0\tC0\tC0\tC0\tC0\tC0\tC0\tC0\tC0\tC0\tC0\tC0\tC0\tC0\tC0\tC0\tC0\tC0\tC0\tC0\tC0\tC0\tC0\tC0\tC0\tC0\tC0\tC0\tC0\tC0\tC0\tC0\tC0\tC0\tC0\tC0\tC0\tC0\tC0\tC0\tC0\tC0\tC0\tC0\tC0\tC0\tC0\tC0\tC0\tC0\tC0\tC0\tC0\tC0\tC0\tC0\tC0\tC0\tC0\tC0\tC0\tC0\tC0\tC0\tC0\tC0\tC0\tC0\tC0\tC0\tC0\tC0\tC0\tC0\tC0\tC0\tC0\tC0\tC0\tC0\tC0\tC0\tC0\tC0\tC0\tC0\tC0\tC0\tC0\tC0\tC0\tC0\tC0\tC0\tC0\tC0\tC0\tC0\tC0\tC0\tC0\tC0\tC0\tC0\tC0\tC0\tC0\tC0\tC0\tC0\tC0\tC0\tC0\tC0\tC0\tC0\tC0\tC0\tC0\tC0\tC0\tC0\tC0\tC0\tC0\tC0\tC0\tC0\tC0\tC0\tC0\tC0\tC0\tC0\tC0\tC0\tC0\tC0\tC0\tC0\tC0\tC0\tC0\tC0\tC0\tC0\tC0\tC0\tC0\tC0\tC0\tC0\tC0\tC0\tC0\tC0\tC0\tC0\tC0\tC0\tC0\tC0\tC0\tC0\tC0\tC0\tC0\tC0\tC0\tC0\tC0\tC0\tC0\tC0\tC0\tC0\tC0\tC0\tC0\tC0\tC0\tC0\tC0\tC0\tC0\tC0\tC0\tC0\tC0\tC0\tC0\tC0\tC0\tC0\tC0\tC0\tC0\tC0\tC0\tC0\tC0\tC0\tC0\tC0\tC0\tC0\tC0\tC0\tC0\tC0\tC0\tC0\tC0\tC0\tC0\tC0\tC0\tC0\tC0\tC0\tC0\tC0\tC0\tC0\tC0\tC0\tC0\tC0\tC0\tC0\tC0\tC0\tC0\tC0\tC0\tC0\tC0\tC0\tC0\tC0\tC0\tC0\tC0\tC0\tC0\tC0\tC0\tC0\tC0\tC0\tC0\tC0\tC0\tC0\tC0\tC0\tC0\tC0\tC0\tC0\tC0\tC0\tC0\tC0\tC0\tC0\tC0\tC0\tC0\tC0\tC0\tC0\tC0\tC0\tC0\tC0\tC0\tC0\tC0\tC0\tC0\tC0\tC0\tC0\tC0\tC0\tC0\tC0\tC0\tC0\tC0\tC0\tC0\tC0\tC0\tC0\tC0\tC0\tC0\tC0\tC0\tC0\tC0\tC0\tC0\tC0\tC0\tC0\tC0\tC0\tC0\tC0\tC0\tC0\tC0\tC0\tC0\tC0\tC0\tC0\tC0\tC0\tC0\tC0\tC0\tC0\tC0\tC0\tC0\tC0\tC0\tC0\tC0\tC0\tC0\tC0\tC0\tC0\tC0\tC0\tC0\tC0\tC0\tC0\tC0\tC0\tC0\tC0\tC0\tC0\tC0\tC0\tC0\tC0\tC0\tC0\tC0\tC0\tC0\tC0\tC0\tC0\tC0\tC0\tC0\tC0\tC0\tC0\tC0\tC0\tC0\tC0\tC0\tC0\tC0\tC0\tC0\tC0\tC0\tC0\tC0\tC0\tC0\tC0\tC0\tC0\tC0\tC0\tC0\tC0\tC0\tC0\tC0\tC0\tC0\tC0\tC0\tC0\tC0\tC0\tC0\tC0\tC0\tC0\tC0\tC0\tC0\tC0\tC0\tC0\tC0\tC0\tC0\tC0\tC0\tC0\tC0\tC0\tC0\tC0\tC0\tC0\tC0\tC0\tC0\tC0\tC0\tC0\tC0\tC0\tC0\tC0\tC0\tC0\tC0\tC0\tC0\tC0\tC0\tC0\tC0\tC0\tC0\tC0\tC0\tC0\tC0\tC0\tC0\tC0\tC0\tC0\tC0\tC0\tC0\tC0\tC0\tC0\tC0\tC0\tC0\tC0\tC0\tC0\tC0\tC0\tC0\tC0\tC0\tC0\tC0\tC0\tC0\tC0\tC0\tC0\tC0\tC0\tC0\tC0\tC0\tC0\tC0\tC0\tC0\tC0\tC0\tC0\tC0\tC0\tC0\tC0\tC0\tC0\tC0\tC0\tC0\tC0\tC0\tC0\tC0\tC0\tC0\tC0\tC0\tC0\tC0\tC0\tC0\tC0\tC0\tC0\tC0\tC0\tC0\tC0\tC0\tC0\tC0\tC0\tC0\tC0\tC0\tC0\tC0\tC0\tC0\tC0\tC0\tC0\tC0\tC0\tC0\tC0\tC0\tC0\tC0\tC0\tC0\tC0\tC0\tC0\tC0\tC0\tC0\tC0\tC0\tC0\tC0\tC0\tC0\tC0\tC0\tC0\tC0\tC0\tC0\tC0\tC0\tC0\tC0\tC0\tC0\tC0\tC0\tC0\tC0\tC0\tC0\tC0\tC0\tC0\tC0\tC0\tC0\tC0\tC0\tC0\tC0\tC0\tC0\tC0\tC0\tC0\tC0\tC0\tC0\tC0\tC0\tC0\tC0\tC0\tC0\tC0\tC0\tC0\tC0\tC0\tC0\tC0\tC0\tC0\tC0\tC0\tC0\tC0\tC0\tC0\tC0\tC0\tC0\tC0\tC0\tC0\tC0\tC0\tC0\tC0\tC0\tC0\tC0\tC0\tC0\tC0\tC0\tC0\tC0\tC0\tC0\tC0\tC0\tC0\tC0\tC0\tC0\tC0\tC0\tC0\tC0\tC0\tC0\tC0\tC0\tC0\tC0\tC0\tC0\tC0\tC0\tC0\tC0\tC0\tC0\tC0\tC0\tC0\tC0\tC0\tC0\tC0\tC0\tC0\tC0\tC0\tC0\tC0\tC0\tC0\tC0\tC0\tC0\tC0\tC0\tC0\tC0\tC0\tC0\tC0\tC0\tC0\tC0\tC0\tC0\tC0\tC0\tC0\tC0\tC0\tC0\tC0\tC0\tC0\tC0\tC0\tC0\tC0\tC0\tC0\tC0\tC0\tC0\tC0\tC0\tC0\tC0\tC0\tC0\tC0\tC0\tC0\tC0\tC0\tC0\tC0\tC0\tC0\tC0\tC0\tC0\tC0\tC0\tC0\tC0\tC0\tC0\tC0\tC0\tC0\tC0\tC0\tC0\tC0\tC0\tC0\tC0\tC0\tC0\tC0\tC0\tC0\tC0\tC0\tC0\tC0\tC0\tC0\tC0\tC0\tC0\tC0\tC0\tC0\tC0\tC0\tC0\tC0\tC0\tC0\tC0\tC0\tC0\tC0\tC0\tC0\tC0\tC0\tC0\tC0\tC0\tC0\tC0\tC0\tC0\tC0\tC0\tC0\tC0\tC0\tC0\tC0\tC0\tC0\tC0\tC0\tC0\tC0\tC0\tC0\tC0\tC0\tC0\tC0\tC0\tC0\tC0\tC0\tC0\tC0\tC0\tC0\tC0\tC0\tC0\tC0\tC0\tC0\tC0\tC0\tC0\tC0\tC0\tC0\tC0\tC0\tC0\tC0\tC0\tC0\tC0\tC0\tC0\tC0\tC0\tC0\tC0\tC0\tC0\tC0\tC0\tC0\tC0\tC0\tC0\tC0\tC0\tC0\tC0\tC0\tC0\tC0\tC0\tC0\tC0\tC0\tC0\tC0\tC0\tC0\tC0\tC0\tC0\tC0\tC0\tC0\tC0\tC0\tC0\tC0\tC0\tC0\tC0\tC0\tC0\tC0\tC0\tC0\tC0\tC0\tC0\tC0\tC0\tC0\tC0\tC0\tC0\tC0\tC0\tC0\tC0\tC0\tC0\tC0\tC0\tC0\tC0\tC0\tC0\tC0\tC0\tC0\tC0\tC0\tC0\tC0\tC0\tC0\tC0\tC0\tC0\tC0\tC0\tC0\tC0\tC0\tC0\tC0\tC0\tC0\tC0\tC0\tC0\tC0\tC0\tC0\tC0\tC0\tC0\tC0\tC0\tC0\tC0\tC0\tC0\tC0\tC0\tC0\tC0\tC0\tC0\tC0\tC0\tC0\tC0\tC0\tC0\tC0\tC0\tC0\tC0\tC0\tC0\tC0\tC0\tC0\tC0\tC0\tC0\tC0\tC0\tC0\tC0\tC0\tC0\tC0\tC0\tC0\tC0\tC0\tC0\tC0\tC0\tC0\tC0\tC0\tC0\tC0\tC0\tC0\tC0\tC0\tC0\tC0\tC0\tC0\tC0\tC0\tC0\tC0\tC0\tC0\tC0\tC0\tC0\tC0\tC0\tC0\tC0\tC0\tC0\tC0\tC0\tC0\tC0\tC0\tC0\tC0\tC0\tC0\tC0\tC0\tC0\tC0\tC0\tC0\tC0\tC0\tC0\tC0\tC0\tC0\tC0\tC0\tC0\tC0\tC0\tC0\tC0\tC0\tC0\tC0\tC0\tC0\tC0\tC0\tC0\tC0\tC0\tC0\tC0\tC0\tC0\tC0\tC0\tC0\tC0\tC0\tC0\tC0\tC0\tC0\tC0\tC0\tC0\tC0\tC0\tC0\tC0\tC0\tC0\tC0\tC0\tC0\tC0\tC0\tC0\tC0\tC0\tC0\tC0\tC0\tC0\tC0\tC0\tC0\tC0\tC0\tC0\tC0\tC0\tC0\tC0\tC0\tC0\tC0\tC0\tC0\tC0\tC0\tC0\tC0\tC0\tC0\tC0\tC0\tC0\tC0\tC0\tC0\tC0\tC0\tC0\tC0\tC0\tC0\tC0\tC0\tC0\tC0\tC0\tC0\tC0\tC0\tC0\tC0\tC0\tC0\tC0\tC0\tC0\tC0\tC0\tC0\tC0\tC0\tC0\tC0\tC0\tC0\tC0\tC0\tC0\tC0\tC0\tC0\tC0\tC0\tC0\tC0\tC0\tC0\tC0\tC0\tC0\tC0\tC0\tC0\tC0\tC0\tC0\tC0\tC0\tC0\tC0\tC0\tC0\tC0\tC0\tC0\tC0\tC0\tC0\tC0\tC0\tC0\tC0\tC0\tC0\tC0\tC0\tC0\tC0\tC0\tC0\tC0\tC0\tC0\tC0\tC0\tC0\tC0\tC0\tC0\tC0\tC0\tC0\tC0\tC0\tC0\tC0\tC0\tC0\tC0\tC0\tC0\tC0\tC0\tC0\tC0\tC0\tC0\tC0\tC0\tC0\tC0\tC0\tC0\tC0\tC0\tC0\tC0\tC0\tC0\tC0\tC0\tC0\tC0\tC0\tC0\tC0\tC0\tC0\tC0\tC0\tC0\tC0\tC0\tC0\tC0\tC0\tC0\tC0\tC0\tC0\tC0\tC0\tC0\tC0\tC0\tC0\tC0\tC0\tC0\tC0\tC0\tC0\tC0\tC0\tC0\tC0\tC0\tC0\tC0\tC0\tC0\tC0\tC0\tC0\tC0\tC0\tC0\tC0\tC0\tC0\tC0\tC0\tC0\tC0\tC0\tC0\tC0\tC0\tC0\tC0\tC0\tC0\tC0\tC0\tC0\tC0\tC0\tC0\tC0\tC0\tC0\tC0\tC0\tC0\tC0\tC0\tC0\tC0\tC0\tC0\tC0\tC0\tC0\tC0\tC0\tC0\tC0\tC0\tC0\tC0\tC0\tC0\tC0\tC0\tC0\tC0\tC0\tC0\tC0\tC0\tC0\tC0\tC0\tC0\tC0\tC0\tC0\tC0\tC0\tC0\tC0\tC0\tC0\tC0\tC0\tC0\tC0\tC0\tC0\tC0\tC0\tC0\tC0\tC0\tC0\tC0\tC0\tC0\tC0\tC0\tC0\tC0\tC0\tC0\tC0\tC0\tC0\tC0\tC0\tC0\tC0\tC0\tC0\tC0\tC0\tC0\tC0\tC0\tC0\tC0\tC0\tC0\tC0\tC0\tC0\tC0\tC0\tC0\tC0\tC0\tC0\tC0\tC0\tC0\tC0\tC0\tC0\tC0\tC0\tC0\tC0\tC0\tC0\tC0\tC0\tC0\tC0\tC0\tC0\tC0\tC0\tC0\tC0\tC0\tC0\tC0\tC0\tC0\tC0\tC0\tC0\tC0\tC0\tC0\tC0\tC0\tC0\tC0\tC0\tC0\tC0\tC0\tC0\tC0\tC0\tC0\tC0\tC0\tC0\tC0\tC0\tC0\tC0\tC0\tC0\tC0\tC0\tC0\tC0\tC0\tC0\tC0\tC0\tC0\tC0\tC0\tC0\tC0\tC0\tC0\tC0\tC0\tC0\tC0\tC0\tC0\tC0\tC0\tC0\tC0\tC0\tC0\tC0\tC0\tC0\tC0\tC0\tC0\tC0\tC0\tC0\tC0\tC0\tC0\tC0\tC0\tC0\tC0\tC0\tC0\tC0\tC0\tC0\tC0\tC0\tC0\tC0\tC0\tC0\tC0\tC0\tC0\tC0\tC0\tC0\tC0\tC0\tC0\tC0\tC0\tC0\tC0\tC0\tC0\tC0\tC0\tC0\tC0\tC0\tC0\tC0\tC0\tC0\tC0\tC0\tC0\tC0\tC0\tC0\tC0\tC0\tC0\tC0\tC0\tC0\tC0\tC0\tC0\tC0\tC0\tC0\tC0\tC0\tC0\tC0\tC0\tC0\tC0\tC0\tC0\tC0\tC0\tC0\tC0\tC0\tC0\tC0\tC0\tC0\tC0\tC0\tC0\tC0\tC0\tC0\tC0\tC0\tC0\tC0\tC0\tC0\tC0\tC0\tC0\tC0\tC0\tC0\tC0\tC0\tC0\tC0\tC0\tC0\tC0\tC0\tC0\tC0\tC0\tC0\tC0\tC0\tC0\tC0\tC0\tC0\tC0\tC0\tC0\tC0\tC0\tC0\tC0\tC0\tC0\tC0\tC0\tC0\tC0\tC0\tC0\tC0\tC0\tC0\tC0\tC0\tC0\tC0\tC0\tC0\tC0\tC0\tC0\tC0\tC0\tC0\tC0\tC0\tC0\tC0\tC0\tC0\tC0\tC0\tC0\tC0\tC0\tC0\tC0\tC0\tC0\tC0\tC0\tC0\tC0\tC0\tC0\tC0\tC0\tC0\tC0\tC0\tC0\tC0\tC0\tC0\tC0\tC0\tC0\tC0\tC0\tC0\tC0\tC0\tC0\tC0\tC0\tC0\tC0\tC0\tC0\tC0\tC0\tC0\tC0\tC0\tC0\tC0\tC0\tC0\tC0\tC0\tC0\tC0\tC0\tC0\tC0\tC0\tC0\tC0\tC0\tC0\tC0\tC0\tC0\tC0\tC0\tC0\tC0\tC0\tC0\tC0\tC0\tC0\tC0\tC0\tC0\tC0\tC0\tC0\tC0\tC0\tC0\tC0\tC0\tC0\tC0\tC0\tC0\tC0\tC0\tC0\tC0\tC0\tC0\tC0\tC0\tC0\tC0\tC0\tC0\tC0\tC0\tC0\tC0\tC0\tC0\tC0\tC0\tC0\tC0\tC0\tC0\tC0\tC0\tC0\tC0\tC0\tC0\tC0\tC0\tC0\tC0\tC0\tC0\tC0\tC0\tC0\tC0\tC0\tC0\tC0\tC0\tC0\tC0\tC0\tC0\tC0\tC0\tC0\tC0\tC0\tC0\tC0\tC0\tC0\tC0\tC0\tC0\tC0\tC0\tC0\tC0\tC0\tC0\tC0\tC0\tC0\tC0\tC0\tC0\tC0\tC0\tC0\tC0\tC0\tC0\tC0\tC0\tC0\tC0\tC0\tC0\tC0\tC0\tC0\tC0\tC0\tC0\tC0\tC0\tC0\tC0\tC0\tC0\tC0\tC0\tC0\tC0\tC0\tC0\tC0\tC0\tC0\tC0\tC0\tC0\tC0\tC0\tC0\tC0\tC0\tC0\tC0\tC0\tC0\tC0\tC0\tC0\tC0\tC0\tC0\tC0\tC0\tC0\tC0\tC0\tC0\tC0\tC0\tC0\tC0\tC0\tC0\tC0\tC0\tC0\tC0\tC0\tC0\tC0\tC0\tC0\tC0\tC0\tC0\tC0\tC0\tC0\tC0\tC0\tC0\tC0\tC0\tC0\tC0\tC0\tC0\tC0\tC0\tC0\tC0\tC0\tC0\tC0\tC0\tC0\tC0\tC0\tC0\tC0\tC0\tC0\tC0\tC0\tC0\tC0\tC0\tC0\tC0\tC0\tC0\tC0\tC0\tC0\tC0\tC0\tC0\tC0\tC0\tC0\tC0\tC0\tC0\tC0\tC0\tC0\tC0\tC0\tC0\tC0\tC0\tC0\tC0\tC0\tC0\tC0\tC0\tC0\tC0\tC0\tC0\tC0\tC0\tC0\tC0\tC0\tC0\tC0\tC0\tC0\tC0\tC0\tC0\tC0\tC0\tC0\tC0\tC0\tC0\tC0\tC0\tC0\tC0\tC0\tC0\tC0\tC0\tC0\tC0\tC0\tC0\tC0\tC0\tC0\tC0\tC0\tC0\tC0\tC0\tC0\tC0\tC0\tC0\tC0\tC0\tC0\tC0\tC0\tC0\tC0\tC0\tC0\tC0\tC0\tC0\tC0\tC0\tC0\tC0\tC0\tC0\tC0\tC0\tC0\tC0\tC0\tC0\tC0\tC0\tC0\tC0\tC0\tC0\tC0\tC0\tC0\tC0\tC0\tC0\tC0\tC0\tC0\tC0\tC0\tC0\tC0\tC0\tC0\tC0\tC0\tC0\tC0\tC0\tC0\tC0\tC0\tC0\tC0\tC0\tC0\tC0\tC0\tC0\tC0\tC0\tC0\tC0\tC0\tC0\tC0\tC0\tC0\tC0\tC0\tC0\tC0\tC0\tC0\tC0\tC0\tC0\tC0\tC0\tC0\tC0\tC0\tC0\tC0\tC0\tC0\tC0\tC0\tC0\tC0\tC0\tC0\tC0\tC0\tC0\tC0\tC0\tC0\tC0\tC0\tC0\tC0\tC0\tC0\tC0\tC0\tC0\tC0\tC0\tC0\tC0\tC0\tC0\tC0\tC0\tC0\tC0\tC0\tC0\tC0\tC0\tC0\tC0\tC0\tC0\tC0\tC0\tC0\tC0\tC0\tC0\tC0\tC0\tC0\tC0\tC0\tC0\tC0\tC0\tC0\tC0\tC0\tC0\tC0\tC0\tC0\tC0\tC0\tC0\tC0\tC0\tC0\tC0\tC0\tC0\tC0\tC0\tC0\tC0\tC0\tC0\tC0\tC0\tC0\tC0\tC0\tC0\tC0\tC0\tC0\tC0\tC0\tC0\tC0\tC0\tC0\tC0\tC0\tC0\tC0\tC0\tC0\tC0\tC0\tC0\tC0\tC0\tC0\tC0\tC0\tC0\tC0\tC0\tC0\tC0\tC0\tC0\tC0\tC0\tC0\tC0\tC0\tC0\tC0\tC0\tC0\tC0\tC0\tC0\tC0\tC0\tC0\tC0\tC0\tC0\tC0\tC0\tC0\tC0\tC0\tC0\tC0\tC0\tC0\tC0\tC0\tC0\tC0\tC0\tC0\tC0\tC0\tC0\tC0\tC0\tC0\tC0\tC0\tC0\tC0\tC0\tC0\tC0\tC0\tC0\tC0\tC0\tC0\tC0\tC0\tC0\tC0\tC0\tC0\tC0\tC0\tC0\tC0\tC0\tC0\tC0\tC0\tC0\tC0\tC0\tC0\tC0\tC0\tC0\tC0\tC0\tC0\tC0\tC0\tC0\tC0\tC0\tC0\tC0\tC0\tC0\tC0\tC0\tC0\tC0\tC0\tC0\tC0\tC0\tC0\tC0\tC0\tC0\tC0\tC0\tC0\tC0\tC0\tC0\tC0\tC0\tC0\tC0\tC0\tC0\tC0\tC0\tC0\tC0\tC0\tC0\tC0\tC0\tC0\tC0\tC0\tC0\tC0\tC0\tC0\tC0\tC0\tC0\tC0\tC0\tC0\tC0\tC0\tC0\tC0\tC0\tC0\tC0\tC0\tC0\tC0\tC0\tC0\tC0\tC0\tC0\tC0\tC0\tC0\tC0\tC0\tC0\tC0\tC0\tC0\tC0\tC0\tC0\tC0\tC0\tC0\tC0\tC0\tC0\tC0\tC0\tC0\tC0\tC0\tC0\tC0\tC0\tC0\tC0\tC0\tC0\tC0\tC0\tC0\tC0\tC0\tC0\tC0\tC0\tC0\tC0\tC0\tC0\tC0\tC0\tC0\tC0\tC0\tC0\tC0\tC0\tC0\tC0\tC0\tC0\tC0\tC0\tC0\tC0\tC0\tC0\tC0\tC0\tC0\tC0\tC0\tC0\tC0\tC0\tC0\tC0\tC0\tC0\tC0\tC0\tC0\tC0\tC0\tC0\tC0\tC0\tC0\tC0\tC0\tC0\tC0\tC0\tC0\tC0\tC0\tC0\tC0\tC0\tC0\tC0\tC0\tC0\tC0\tC0\tC0\tC0\tC0\tC0\tC0\tC0\tC0\tC0\tC0\tC0\tC0\tC0\tC0\tC0\tC0\tC0\tC0\tC0\tC0\tC0\tC0\tC0\tC0\tC0\tC0\tC0\tC0\tC0\tC0\tC0\tC0\tC0\tC0\tC0\tC0\tC0\tC0\tC0\tC0\tC0\tC0\tC0\tC0\tC0\tC0\tC0\tC0\tC0\tC0\tC0\tC0\tC0\tC0\tC0\tC0\tC0\tC0\tC0\tC0\tC0\tC0\tC0\tC0\tC0\tC0\tC0\tC0\tC0\tC0\tC0\tC0\tC0\tC0\tC0\tC0\tC0\tC0\tC0\tC0\tC0\tC0\tC0\tC0\tC0\tC0\tC0\tC0\tC0\tC0\tC0\tC0\tC0\tC0\tC0\tC0\tC0\tC0\tC0\tC0\tC0\tC0\tC0\tC0\tC0\tC0\tC0\tC0\tC0\tC0\tC0\tC0\tC0\tC0\tC0\tC0\tC0\tC0\tC0\tC0\tC0\tC0\tC0\tC0\tC0\tC0\tC0\tC0\tC0\tC0\tC0\tC0\tC0\tC0\tC0\tC0\tC0\tC0\tC0\tC0\tC0\tC0\tC0\tC0\tC0\tC0\tC0\tC0\tC0\tC0\tC0\tC0\tC0\tC0\tC0\tC0\tC0\tC0\tC0\tC0\tC0\tC0\tC0\tC0\tC0\tC0\tC0\tC0\tC0\tC0\tC0\tC0\tC0\tC0\tC0\tC0\tC0\tC0\tC0\tC0\tC0\tC0\tC0\tC0\tC0\tC0\tC0\tC0\tC0\tC0\tC0\tC0\tC0\tC0\tC0\tC0\tC0\tC0\tC0\tC0\tC0\tC0\tC0\tC0\tC0\tC0\tC0\tC0\tC0\tC0\tC0\tC0\tC0\tC0\tC0\tC0\tC0\tC0\tC0\tC0\tC0\tC0\tC0\tC0\tC0\tC0\tC0\tC0\tC0\tC0\tC0\tC0\tC0\tC0\tC0\tC0\tC0\tC0\tC0\tC0\tC0\tC0\tC0\tC0\tC0\tC0\tC0\tC0\tC0\tC0\tC0\tC0\tC0\tC0\tC0\tC0\tC0\tC0\tC0\tC0\tC0\tC0\tC0\tC0\tC0\tC0\tC0\tC0\tC0\tC0\tC0\tC0\tC0\tC0\tC0\tC0\tC0\tC0\tC0\tC0\tC0\tC0\tC0\tC0\tC0\tC0\tC0\tC0\tC0\tC0\tC0\tC0\tC0\tC0\tC0\tC0\tC0\tC0\tC0\tC0\tC0\tC0\tC0\tC0\tC0\tC0\tC0\tC0\tC0\tC0\tC0\tC0\tC0\tC0\tC0\tC0\tC0\tC0\tC0\tC0\tC0\tC0\tC0\tC0\tC0\tC0\tC0\tC0\tC0\tC0\tC0\tC0\tC0\tC0\tC0\tC0\tC0\tC0\tC0\tC0\tC0\tC0\tC0\tC0\tC0\tC0\tC0\tC0\tC0\tC0\tC0\tC0\tC0\tC0\tC0\tC0\tC0\tC0\tC0\tC0\tC0\tC0\tC0\tC0\tC0\tC0\tC0\tC0\tC0\tC0\tC0\tC0\tC0\tC0\tC0\tC0\tC0\tC0\tC0\tC0\tC0\tC0\tC0\tC0\tC0\tC0\tC0\tC0\tC0\tC0\tC0\tC0\tC0\tC0\tC0\tC0\tC0\tC0\tC0\tC0\tC0\tC0\tC0\tC0\tC0\tC0\tC0\tC0\tC0\tC0\tC0\tC0\tC0\tC0\tC0\tC0\tC0\tC0\tC0\tC0\tC0\tC0\tC0\tC0\tC0\tC0\tC0\tC0\tC0\tC0\tC0\tC0\tC0\tC0\tC0\tC0\tC0\tC0\tC0\tC0\tC0\tC0\tC0\tC0\tC0\tC0\tC0\tC0\tC0\tC0\tC0\tC0\tC0\tC0\tC0\tC0\tC0\tC0\tC0\tC0\tC0\tC0\tC0\tC0\tC0\tC0\tC0\tC0\tC0\tC0\tC0\tC0\tC0\tC0\tC0\tC0\tC0\tC0\tC0\tC0\tC0\tC0\tC0\tC0\tC0\tC0\tC0\tC0\tC0\tC0\tC0\tC0\tC0\tC0\tC0\tC0\tC0\tC0\tC0\tC0\tC0\tC0\tC0\tC0\tC0\tC0\tC0\tC0\tC0\tC0\tC0\tC0\tC0\tC0\tC0\tC0\tC0\tC0\tC0\tC0\tC0\tC0\tC0\tC0\tC0\tC0\tC0\tC0\tC0\tC0\tC0\tC0\tC0\tC0\tC0\tC0\tC0\tC0\tC0\tC0\tC0\tC0\tC0\tC0\tC0\tC0\tC0\tC0\tC0\tC0\tC0\tC0\tC0\tC0\tC0\tC0\tC0\tC0\tC0\tC0\tC0\tC0\tC0\tC0\tC0\tC0\tC0\tC0\tC0\tC0\tC0\tC0\tC0\tC0\tC0\tC0\tC0\tC0\tC0\tC0\tC0\tC0\tC0\tC0\tC0\tC0\tC0\tC0\tC0\tC0\tC0\tC0\tC0\tC0\tC0\tC0\tC0\tC0\tC0\tC0\tC0\tC0\tC0\tC0\tC0\tC0\tC0\tC0\tC0\tC0\tC0\tC0\tC0\tC0\tC0\tC0\tC0\tC0\tC0\tC0\tC0\tC0\tC0\tC0\tC0\tC0\tC0\tC0\tC0\tC0\tC0\tC0\tC0\tC0\tC0\tC0\tC0\tC0\tC0\tC0\tC0\tC0\tC0\tC0\tC0\tC0\tC0\tC0\tC0\tC0\tC0\tC0\tC0\tC0\tC0\tC0\tC0\tC0\tC0\tC0\tC0\tC0\tC0\tC0\tC0\tC0\tC0\tC0\tC0\tC0\tC0\tC0\tC0\tC0\tC0\tC0\tC0\tC0\tC0\tC0\tC0\tC0\tC0\tC0\tC0\tC0\tC0\tC0\tC0\tC0\tC0\tC0\tC0\tC0\tC0\tC0\tC0\tC0\tC0\tC0\tC0\tC0\tC0\tC0\tC0\tC0\tC0\tC0\tC0\tC0\tC0\tC0\tC0\tC0\tC0\tC0\tC0\tC0\tC0\tC0\tC0\tC0\tC0\tC0\tC0\tC0\tC0\tC0\tC0\tC0\tC0\tC0\tC0\tC0\tC0\tC0\tC0\tC0\tC0\tC0\tC0\tC0\tC0\tC0\tC0\tC0\tC0\tC0\tC0\tC0\tC0\tC0\tC0\tC0\tC0\tC0\tC0\tC0\tC0\tC0\tC0\tC0\tC0\tC0\tC0\tC0\tC0\tC0\tC0\tC0\tC0\tC0\tC0\tC0\tC0\tC0\tC0\tC0\tC0\tC0\tC0\tC0\tC0\tC0\tC0\tC0\tC0\tC0\tC0\tC0\tC0\tC0\tC0\tC0\tC0\tC0\tC0\tC0\tC0\tC0\tC0\tC0\tC0\tC0\tC0\tC0\tC0\tC0\tC0\tC0\tC0\tC0\tC0\tC0\tC0\tC0\tC0\tC0\tC0\tC0\tC0\tC0\tC0\tC0\tC0\tC0\tC0\tC0\tC0\tC0\tC0\tC0\tC0\tC0\tC0\tC0\tC0\tC0\tC0\tC0\tC0\tC0\tC0\tC0\tC0\tC0\tC0\tC0\tC0\tC0\tC0\tC0\tC0\tC0\tC0\tC0\tC0\tC0\tC0\tC0\tC0\tC0\tC0\tC0\tC0\tC0\tC0\tC0\tC0\tC0\tC0\tC0\tC0\tC0\tC0\tC0\tC0\tC0\tC0\tRemaining.. 432\n",
      "r= 3.0\n"
     ]
    },
    {
     "name": "stdout",
     "output_type": "stream",
     "text": [
      "C0\tC0\tC0\tC0\tC0\tC0\tC0\tC0\tC0\tC0\tC0\tC0\tC0\tC0\tC0\tC0\tC0\tC0\tC0\tC0\tC0\tC0\tC0\tC0\tC0\tC0\tC0\tC0\tC0\tC0\tC0\tC0\tC0\tC0\tC0\tC0\tC0\tC0\tC0\tC0\tC0\tC0\tC0\tC0\tC0\tC0\tC0\tC0\tC0\tC0\tC0\tC0\tC0\tC0\tC0\tC0\tC0\tC0\tC0\tC0\tC0\tC0\tC0\tC0\tC0\tC0\tC0\tC0\tC0\tC0\tC0\tC0\tC0\tC0\tC0\tC0\tC0\tC0\tC0\tC0\tC0\tC0\tC0\tC0\tC0\tC0\tC0\tC0\tC0\tC0\tC0\tC0\tC0\tC0\tC0\tC0\tC0\tC0\tC0\tC0\tC0\tC0\tC0\tC0\tC0\tC0\tC0\tC0\tC0\tC0\tC0\tC0\tC0\tC0\tC0\tC0\tC0\tC0\tC0\tC0\tC0\tC0\tC0\tC0\tC0\tC0\tC0\tC0\tC0\tC0\tC0\tC0\tC0\tC0\tC0\tC0\tC0\tC0\tC0\tC0\tC0\tC0\tC0\tC0\tC0\tC0\tC0\tC0\tC0\tC0\tC0\tC0\tC0\tC0\tC0\tC0\tC0\tC0\tC0\tC0\tC0\tC0\tC0\tC0\tC0\tC0\tC0\tC0\tC0\tC0\tC0\tC0\tC0\tC0\tC0\tC0\tC0\tC0\tC0\tC0\tC0\tC0\tC0\tC0\tC0\tC0\tC0\tC0\tC0\tC0\tC0\tC0\tC0\tC0\tC0\tC0\tC0\tC0\tC0\tC0\tC0\tC0\tC0\tC0\tC0\tC0\tC0\tC0\tC0\tC0\tC0\tC0\tC0\tC0\tC0\tC0\tC0\tC0\tC0\tC0\tC0\tC0\tC0\tC0\tC0\tC0\tC0\tC0\tC0\tC0\tC0\tC0\tC0\tC0\tC0\tC0\tC0\tC0\tC0\tC0\tC0\tC0\tC0\tC0\tC0\tC0\tC0\tC0\tC0\tC0\tC0\tC0\tC0\tC0\tC0\tC0\tC0\tC0\tC0\tC0\tC0\tC0\tC0\tC0\tC0\tC0\tC0\tC0\tC0\tC0\tC0\tC0\tC0\tC0\tC0\tC0\tC0\tC0\tC0\tC0\tC0\tC0\tC0\tC0\tC0\tC0\tC0\tC0\tC0\tC0\tC0\tC0\tC0\tC0\tC0\tC0\tC0\tC0\tC0\tC0\tC0\tC0\tC0\tC0\tC0\tC0\tC0\tC0\tC0\tC0\tC0\tC0\tC0\tC0\tC0\tC0\tC0\tC0\tC0\tC0\tC0\tC0\tC0\tC0\tC0\tC0\tC0\tC0\tC0\tC0\tC0\tC0\tC0\tC0\tC0\tC0\tC0\tC0\tC0\tC0\tC0\tC0\tC0\tC0\tC0\tC0\tC0\tC0\tC0\tC0\tC0\tC0\tC0\tC0\tC0\tC0\tC0\tC0\tC0\tC0\tC0\tC0\tC0\tC0\tC0\tC0\tC0\tC0\tC0\tC0\tC0\tC0\tC0\tC0\tC0\tC0\tC0\tC0\tC0\tC0\tC0\tC0\tC0\tC0\tC0\tC0\tC0\tC0\tC0\tC0\tC0\tC0\tC0\tC0\tC0\tC0\tC0\tC0\tC0\tC0\tC0\tC0\tC0\tC0\tC0\tC0\tC0\tC0\tC0\tC0\tC0\tC0\tC0\tC0\tC0\tC0\tC0\tC0\tC0\tC0\tC0\tC0\tC0\tC0\tC0\tC0\tC0\tC0\tC0\tC0\tC0\tC0\tC0\tC0\tC0\tC0\tC0\tC0\tC0\tC0\tC0\tC0\tC0\tC0\tC0\tC0\tC0\tC0\tC0\tC0\tC0\tC0\tC0\tC0\tC0\tC0\tC0\tC0\tC0\tC0\tC0\tC0\tC0\tC0\tC0\tC0\tC0\tC0\tC0\tC0\tC0\tC0\tC0\tC0\tC0\tC0\tC0\tC0\tC0\tC0\tC0\tC0\tC0\tC0\tC0\tC0\tC0\tC0\tC0\tC0\tC0\tC0\tC0\tC0\tC0\tC0\tC0\tC0\tC0\tC0\tC0\tC0\tC0\tC0\tC0\tC0\tC0\tC0\tC0\tC0\tC0\tC0\tC0\tC0\tC0\tC0\tC0\tC0\tC0\tC0\tC0\tC0\tC0\tC0\tC0\tC0\tC0\tC0\tC0\tC0\tC0\tC0\tC0\tC0\tC0\tC0\tC0\tC0\tC0\tC0\tC0\tC0\tC0\tC0\tC0\tC0\tC0\tC0\tC0\tC0\tC0\tC0\tC0\tC0\tC0\tC0\tC0\tC0\tC0\tC0\tC0\tC0\tC0\tC0\tC0\tC0\tC0\tC0\tC0\tC0\tC0\tC0\tC0\tC0\tC0\tC0\tC0\tC0\tC0\tC0\tC0\tC0\tC0\tC0\tC0\tC0\tC0\tC0\tC0\tC0\tC0\tC0\tC0\tC0\tC0\tC0\tC0\tC0\tC0\tC0\tC0\tC0\tC0\tC0\tC0\tC0\tC0\tC0\tC0\tC0\tC0\tC0\tC0\tC0\tC0\tC0\tC0\tC0\tC0\tC0\tC0\tC0\tC0\tC0\tC0\tC0\tC0\tC0\tC0\tC0\tC0\tC0\tC0\tC0\tC0\tC0\tC0\tC0\tC0\tC0\tC0\tC0\tC0\tC0\tC0\tC0\tC0\tC0\tC0\tC0\tC0\tC0\tC0\tC0\tC0\tC0\tC0\tC0\tC0\tC0\tC0\tC0\tC0\tC0\tC0\tC0\tC0\tC0\tC0\tC0\tC0\tC0\tC0\tC0\tC0\tC0\tC0\tC0\tC0\tC0\tC0\tC0\tC0\tC0\tC0\tC0\tC0\tC0\tC0\tC0\tC0\tC0\tC0\tC0\tC0\tC0\tC0\tC0\tC0\tC0\tC0\tC0\tC0\tC0\tC0\tC0\tC0\tC0\tC0\tC0\tC0\tC0\tC0\tC0\tC0\tC0\tC0\tC0\tC0\tC0\tC0\tC0\tC0\tC0\tC0\tC0\tC0\tC0\tC0\tC0\tC0\tC0\tC0\tC0\tC0\tC0\tC0\tC0\tC0\tC0\tC0\tC0\tC0\tC0\tC0\tC0\tC0\tC0\tC0\tC0\tC0\tC0\tC0\tC0\tC0\tC0\tC0\tC0\tC0\tC0\tC0\tC0\tC0\tC0\tC0\tC0\tC0\tC0\tC0\tC0\tC0\tC0\tC0\tC0\tC0\tC0\tC0\tC0\tC0\tC0\tC0\tC0\tC0\tC0\tC0\tC0\tC0\tC0\tC0\tC0\tC0\tC0\tC0\tC0\tC0\tC0\tC0\tC0\tC0\tC0\tC0\tC0\tC0\tC0\tC0\tC0\tC0\tC0\tC0\tC0\tC0\tC0\tC0\tC0\tC0\tC0\tC0\tC0\tC0\tC0\tC0\tC0\tC0\tC0\tC0\tC0\tC0\tC0\tC0\tC0\tC0\tC0\tC0\tC0\tC0\tC0\tC0\tC0\tC0\tC0\tC0\tC0\tC0\tC0\tC0\tC0\tC0\tC0\tC0\tC0\tC0\tC0\tC0\tC0\tC0\tC0\tC0\tC0\tC0\tC0\tC0\tC0\tC0\tC0\tC0\tC0\tC0\tC0\tC0\tC0\tC0\tC0\tC0\tC0\tC0\tC0\tC0\tC0\tC0\tC0\tC0\tC0\tC0\tC0\tC0\tC0\tC0\tC0\tC0\tC0\tC0\tC0\tC0\tC0\tC0\tC0\tC0\tC0\tC0\tC0\tC0\tC0\tC0\tC0\tC0\tC0\tC0\tC0\tC0\tC0\tC0\tC0\tC0\tC0\tC0\tC0\tC0\tC0\tC0\tC0\tC0\tC0\tC0\tC0\tC0\tC0\tC0\tC0\tC0\tC0\tC0\tC0\tC0\tC0\tC0\tC0\tC0\tC0\tC0\tC0\tC0\tC0\tC0\tC0\tC0\tC0\tC0\tC0\tC0\tC0\tC0\tC0\tC0\tC0\tC0\tC0\tC0\tC0\tC0\tC0\tC0\tC0\tC0\tC0\tC0\tC0\tC0\tC0\tC0\tC0\tC0\tC0\tC0\tC0\tC0\tC0\tC0\tC0\tC0\tC0\tC0\tC0\tC0\tC0\tC0\tC0\tC0\tC0\tC0\tC0\tC0\tC0\tC0\tC0\tC0\tC0\tC0\tC0\tC0\tC0\tC0\tC0\tC0\tC0\tC0\tC0\tC0\tC0\tC0\tC0\tC0\tC0\tC0\tC0\tC0\tC0\tC0\tC0\tC0\tC0\tC0\tC0\tC0\tC0\tC0\tC0\tC0\tC0\tC0\tC0\tC0\tC0\tC0\tC0\tC0\tC0\tC0\tC0\tC0\tC0\tC0\tC0\tC0\tC0\tC0\tC0\tC0\tC0\tC0\tC0\tC0\tC0\tC0\tC0\tC0\tC0\tC0\tC0\tC0\tC0\tC0\tC0\tC0\tC0\tC0\tC0\tC0\tC0\tC0\tC0\tC0\tC0\tC0\tC0\tC0\tC0\tC0\tC0\tC0\tC0\tC0\tC0\tC0\tC0\tC0\tC0\tC0\tC0\tC0\tC0\tC0\tC0\tC0\tC0\tC0\tC0\tC0\tC0\tC0\tC0\tC0\tC0\tC0\tC0\tC0\tC0\tC0\tC0\tC0\tC0\tC0\tC0\tC0\tC0\tC0\tC0\tC0\tC0\tC0\tC0\tC0\tC0\tC0\tC0\tC0\tC0\tC0\tC0\tC0\tC0\tC0\tC0\tC0\tC0\tC0\tC0\tC0\tC0\tC0\tC0\tC0\tC0\tC0\tC0\tC0\tC0\tC0\tC0\tC0\tC0\tC0\tC0\tC0\tC0\tC0\tC0\tC0\tC0\tC0\tC0\tC0\tC0\tC0\tC0\tC0\tC0\tC0\tC0\tC0\tC0\tC0\tC0\tC0\tC0\tC0\tC0\tC0\tC0\tC0\tC0\tC0\tC0\tC0\tC0\tC0\tC0\tC0\tC0\tC0\tC0\tC0\tC0\tC0\tC0\tC0\tC0\tC0\tC0\tC0\tC0\tC0\tC0\tC0\tC0\tC0\tC0\tC0\tC0\tC0\tC0\tC0\tC0\tC0\tC0\tC0\tC0\tC0\tC0\tC0\tC0\tC0\tC0\tC0\tC0\tC0\tC0\tC0\tC0\tC0\tC0\tC0\tC0\tC0\tC0\tC0\tC0\tC0\tC0\tC0\tC0\tC0\tC0\tC0\tC0\tC0\tC0\tC0\tC0\tC0\tC0\tC0\tC0\tC0\tC0\tC0\tC0\tC0\tC0\tC0\tC0\tC0\tC0\tC0\tC0\tC0\tC0\tC0\tC0\tC0\tC0\tC0\tC0\tC0\tC0\tC0\tC0\tC0\tC0\tC0\tC0\tC0\tC0\tC0\tC0\tC0\tC0\tC0\tC0\tC0\tC0\tC0\tC0\tC0\tC0\tC0\tC0\tRemaining.. 144\r\n",
      "r= 9.0\r\n",
      "C0\tC0\tC0\tC0\tC0\tC0\tC0\tC0\tC0\tC0\tC0\tC0\tC0\tC0\tC0\tC0\tC0\tC0\tC0\tC0\tC0\tC0\tC0\tC0\tC0\tC0\tC0\tC0\tC0\tC0\tC0\tC0\tC0\tC0\tC0\tC0\tC0\tC0\tC0\tC0\tC0\tC0\tC0\tC0\tC0\tC0\tC0\tC0\tC0\tC0\tC0\tC0\tC0\tC0\tC0\tC0\tC0\tC0\tC0\tC0\tC0\tC0\tC0\tC0\tC0\tC0\tC0\tC0\tC0\tC0\tC0\tC0\tC0\tC0\tC0\tC0\tC0\tC0\tC0\tC0\tC0\tC0\tC0\tC0\tC0\tC0\tC0\tC0\tC0\tC0\tC0\tC0\tC0\tC0\tC0\tC0\tC0\tC0\tC0\tC0\tC0\tC0\tC0\tC0\tC0\tC0\tC0\tC0\tC0\tC0\tC0\tC0\tC0\tC0\tC0\tC0\tC0\tC0\tC0\tC0\tC0\tC0\tC0\tC0\tC0\tC0\tC0\tC0\tC0\tC0\tC0\tC0\tC0\tC0\tC0\tC0\tC0\tC0\tC0\tC0\tC0\tC0\tC0\tC0\tC0\tC0\tC0\tC0\tC0\tC0\tC0\tC0\tC0\tC0\tC0\tC0\tC0\tC0\tC0\tC0\tC0\tC0\tC0\tC0\tC0\tC0\tC0\tC0\tC0\tC0\tC0\tC0\tC0\tC0\tC0\tC0\tC0\tC0\tC0\tC0\tC0\tC0\tC0\tC0\tC0\tC0\tC0\tC0\tC0\tC0\tC0\tC0\tC0\tC0\tC0\tC0\tC0\tC0\tC0\tC0\tC0\tC0\tC0\tC0\tC0\tC0\tC0\tC0\tC0\tC0\tC0\tC0\tC0\tC0\tC0\tC0\tC0\tC0\tC0\tC0\tC0\tC0\tC0\tC0\tC0\tC0\tC0\tC0\tC0\tC0\tC0\tC0\tC0\tC0\tC0\tC0\tC0\tC0\tC0\tC0\tC0\tC0\tC0\tC0\tC0\tC0\tC0\tC0\tC0\tC0\tC0\tC0\tC0\tC0\tC0\tC0\tC0\tC0\tC0\tC0\tC0\tC0\tC0\tC0\tC0\tC0\tC0\tC0\tC0\tC0\tC0\tC0\tC0\tC0\tC0\tC0\tC0\tC0\tC0\tC0\tC0\tC0\tC0\tC0\tC0\tC0\tC0\tC0\tC0\tC0\tC0\tC0\tC0\tC0\tC0\tC0\tC0\tC0\tC0\tC0\tC0\tC0\tC0\tC0\tC0\tC0\tC0\tC0\tC0\tC0\tC0\tC0\tC0\tC0\tC0\tC0\tC0\tC0\tC0\tC0\tC0\tC0\tC0\tC0\tC0\tC0\tC0\tC0\tC0\tC0\tC0\tC0\tC0\tC0\tC0\tC0\tC0\tC0\tC0\tC0\tC0\tC0\tC0\tC0\tC0\tC0\tC0\tC0\tC0\tC0\tC0\tC0\tC0\tC0\tC0\tC0\tC0\tC0\tC0\tC0\tC0\tC0\tC0\tC0\tC0\tC0\tC0\tC0\tC0\tC0\tC0\tC0\tC0\tC0\tC0\tC0\tC0\tC0\tC0\tC0\tC0\tC0\tC0\tC0\tC0\tC0\tC0\tC0\tC0\tC0\tC0\tC0\tC0\tC0\tC0\tC0\tC0\tC0\tC0\tC0\tC0\tC0\tC0\tC0\tC0\tC0\tC0\tC0\tC0\tC0\tC0\tC0\tC0\tC0\tC0\tC0\tC0\tC0\tC0\tC0\tC0\tC0\tC0\tC0\tC0\tC0\tC0\tC0\tC0\tC0\tC0\tC0\tRemaining.. 48\r\n",
      "r= 27.0\r\n",
      "C0\tC0\tC0\tC0\tC0\tC0\tC0\tC0\tC0\tC0\tC0\tC0\tC0\tC0\tC0\tC0\tC0\tC0\tC0\tC0\tC0\tC0\tC0\tC0\tC0\tC0\tC0\tC0\tC0\tC0\tC0\tC0\tC0\tC0\tC0\tC0\tC0\tC0\tC0\tC0\tC0\tC0\tC0\tC0\tC0\tC0\tC0\tC0\tC0\tC0\tC0\tC0\tC0\tC0\tC0\tC0\tC0\tC0\tC0\tC0\tC0\tC0\tC0\tC0\tC0\tC0\tC0\tC0\tC0\tC0\tC0\tC0\tC0\tC0\tC0\tC0\tC0\tC0\tC0\tC0\tC0\tC0\tC0\tC0\tC0\tC0\tC0\tC0\tC0\tC0\tC0\tC0\tC0\tC0\tC0\tC0\tC0\tC0\tC0\tC0\tC0\tC0\tC0\tC0\tC0\tC0\tC0\tC0\tC0\tC0\tC0\tC0\tC0\tC0\tC0\tC0\tC0\tC0\tC0\tC0\tC0\tC0\tC0\tC0\tC0\tC0\tC0\tC0\tC0\tC0\tC0\tC0\tC0\tC0\tC0\tC0\tC0\tC0\tC0\tC0\tC0\tC0\tC0\tC0\tRemaining.. 16\r\n",
      "r= 81.0\r\n",
      "C0\tC0\tC0\tC0\tC0\tC0\tC0\tC0\tC0\tC0\tC0\tC0\tC0\tC0\tC0\tC0\tC0\tC0\tC0\tC0\tC0\tC0\tC0\tC0\tC0\tC0\tC0\tC0\tC0\tC0\tC0\tC0\tC0\tC0\tC0\tC0\tC0\tC0\tC0\tC0\tC0\tC0\tC0\tC0\tC0\tC0\tC0\tC0\t----------------------------------------------------------\r\n",
      "best answer :  -916.2230345530926\r\n",
      "number of queries:  4223\r\n",
      "Time per query 0.060220s\r\n"
     ]
    }
   ],
   "source": [
    "!python main.py -query f2"
   ]
  },
  {
   "cell_type": "code",
   "execution_count": null,
   "metadata": {},
   "outputs": [],
   "source": []
  }
 ],
 "metadata": {
  "kernelspec": {
   "display_name": "Python 3",
   "language": "python",
   "name": "python3"
  },
  "language_info": {
   "codemirror_mode": {
    "name": "ipython",
    "version": 3
   },
   "file_extension": ".py",
   "mimetype": "text/x-python",
   "name": "python",
   "nbconvert_exporter": "python",
   "pygments_lexer": "ipython3",
   "version": "3.7.3"
  }
 },
 "nbformat": 4,
 "nbformat_minor": 2
}
